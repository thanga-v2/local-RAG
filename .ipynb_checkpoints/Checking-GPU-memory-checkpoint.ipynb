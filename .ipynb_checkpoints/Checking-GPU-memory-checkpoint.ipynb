{
 "cells": [
  {
   "cell_type": "code",
   "execution_count": null,
   "id": "cc18c9ce-17be-491d-a19d-00ca09ac5ea0",
   "metadata": {},
   "outputs": [],
   "source": [
    "# checking GPU memory\n",
    "\n",
    "import torch\n",
    "\n",
    "if torch.cuda.is_available():\n",
    "    gpu_memory_reserved_bytes = torch.cuda.memory_reserved(0)\n",
    "    gpu_memory_reserved_gb = round(gpu_memory_reserved_bytes / (2**30))\n",
    "    print(f'Available GPU memory: {gpu_memory_reserved_gb} GB')\n",
    "else:\n",
    "    print('GPU is not available.')"
   ]
  }
 ],
 "metadata": {
  "kernelspec": {
   "display_name": "Python 3 (ipykernel)",
   "language": "python",
   "name": "python3"
  },
  "language_info": {
   "codemirror_mode": {
    "name": "ipython",
    "version": 3
   },
   "file_extension": ".py",
   "mimetype": "text/x-python",
   "name": "python",
   "nbconvert_exporter": "python",
   "pygments_lexer": "ipython3",
   "version": "3.9.5"
  }
 },
 "nbformat": 4,
 "nbformat_minor": 5
}
