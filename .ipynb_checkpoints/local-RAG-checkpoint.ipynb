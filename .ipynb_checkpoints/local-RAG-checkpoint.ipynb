{
 "cells": [
  {
   "cell_type": "code",
   "execution_count": null,
   "id": "57f24af2-3777-4bd8-afe5-54bb4131145a",
   "metadata": {},
   "outputs": [],
   "source": [
    "# building a RAG(Retrieval Augmented Generation) pipeline from scratch \n"
   ]
  },
  {
   "cell_type": "code",
   "execution_count": 1,
   "id": "e56e0604-557b-4d03-acd7-85961c77e5ff",
   "metadata": {},
   "outputs": [],
   "source": [
    "\n",
    "# installing and verifying torch manually\n",
    "\n",
    "# pip3 install torch torchvision\n",
    "\n"
   ]
  },
  {
   "cell_type": "code",
   "execution_count": 2,
   "id": "dc7ef861-46b7-405e-a924-82d6f689dc54",
   "metadata": {},
   "outputs": [],
   "source": [
    "import torch"
   ]
  },
  {
   "cell_type": "code",
   "execution_count": 3,
   "id": "84cfaada-4bef-4026-aa31-18022f0b3f99",
   "metadata": {},
   "outputs": [],
   "source": [
    "var = torch.rand(10,20)"
   ]
  },
  {
   "cell_type": "code",
   "execution_count": 4,
   "id": "e31b6951-a71b-452c-be94-552ac8796de9",
   "metadata": {},
   "outputs": [
    {
     "data": {
      "text/plain": [
       "tensor([[0.5896, 0.7405, 0.4318, 0.6794, 0.9521, 0.0934, 0.5035, 0.6383, 0.9757,\n",
       "         0.0490, 0.4231, 0.7973, 0.2975, 0.6313, 0.7023, 0.0090, 0.2655, 0.3913,\n",
       "         0.9591, 0.0300],\n",
       "        [0.7601, 0.4640, 0.7692, 0.7797, 0.5399, 0.7324, 0.4939, 0.7826, 0.3750,\n",
       "         0.9877, 0.9441, 0.4140, 0.7683, 0.5377, 0.3388, 0.7754, 0.4934, 0.4358,\n",
       "         0.1821, 0.7938],\n",
       "        [0.2906, 0.1608, 0.7488, 0.0713, 0.2377, 0.1399, 0.2662, 0.4450, 0.2013,\n",
       "         0.1799, 0.0763, 0.8409, 0.4124, 0.5131, 0.3840, 0.9787, 0.8420, 0.4047,\n",
       "         0.7416, 0.5673],\n",
       "        [0.9478, 0.5520, 0.1299, 0.4541, 0.6727, 0.2297, 0.4384, 0.3955, 0.8875,\n",
       "         0.9005, 0.2569, 0.8001, 0.6537, 0.5904, 0.8617, 0.7072, 0.4580, 0.2755,\n",
       "         0.7071, 0.8985],\n",
       "        [0.4682, 0.7900, 0.5041, 0.7696, 0.0892, 0.6577, 0.5213, 0.9373, 0.6070,\n",
       "         0.1511, 0.6237, 0.2077, 0.2918, 0.7980, 0.5563, 0.3488, 0.6350, 0.9124,\n",
       "         0.6287, 0.8722],\n",
       "        [0.4791, 0.2203, 0.7109, 0.3883, 0.6416, 0.2433, 0.3124, 0.3279, 0.1184,\n",
       "         0.6307, 0.0522, 0.1916, 0.1990, 0.1083, 0.1957, 0.1726, 0.4103, 0.3950,\n",
       "         0.0739, 0.3295],\n",
       "        [0.8321, 0.6444, 0.5881, 0.9385, 0.4589, 0.8920, 0.1024, 0.3589, 0.6420,\n",
       "         0.6324, 0.0106, 0.7253, 0.8751, 0.4552, 0.7867, 0.4877, 0.4253, 0.3169,\n",
       "         0.8972, 0.8848],\n",
       "        [0.7386, 0.8404, 0.9552, 0.0313, 0.9432, 0.9485, 0.1132, 0.3762, 0.1233,\n",
       "         0.2654, 0.3587, 0.2917, 0.8485, 0.7483, 0.8293, 0.9863, 0.9218, 0.5279,\n",
       "         0.2713, 0.1805],\n",
       "        [0.2606, 0.5575, 0.7681, 0.1281, 0.1017, 0.7844, 0.8810, 0.1646, 0.6922,\n",
       "         0.5666, 0.7455, 0.6732, 0.2092, 0.2277, 0.7192, 0.2074, 0.3333, 0.2151,\n",
       "         0.7489, 0.8279],\n",
       "        [0.5996, 0.1410, 0.0441, 0.5126, 0.0920, 0.9572, 0.7673, 0.0049, 0.8137,\n",
       "         0.9564, 0.4992, 0.8320, 0.2441, 0.3423, 0.1559, 0.1321, 0.9087, 0.4402,\n",
       "         0.3353, 0.2491]])"
      ]
     },
     "execution_count": 4,
     "metadata": {},
     "output_type": "execute_result"
    }
   ],
   "source": [
    "var"
   ]
  },
  {
   "cell_type": "code",
   "execution_count": null,
   "id": "6d58aeef-8c78-4e3b-9ad0-7f7181d0ae74",
   "metadata": {},
   "outputs": [],
   "source": [
    "# RAG takes information from one place and pass it to LLM so it can generate outputs based on that information"
   ]
  },
  {
   "cell_type": "code",
   "execution_count": 5,
   "id": "59c21b9b-4f76-4c68-90e5-645ef771184b",
   "metadata": {},
   "outputs": [],
   "source": [
    "### What is RAG ?"
   ]
  },
  {
   "cell_type": "code",
   "execution_count": null,
   "id": "7e995b98-22a8-4d2d-894b-637ed792adc7",
   "metadata": {},
   "outputs": [],
   "source": [
    "# Retrieval - Find relevant information given a query e.g \"what are macro nutrients and what do they do\"? -> this retieves passage of text relevant \n",
    "# to macro nutrients from the text book (pdf source which we have added here)\n",
    "\n",
    "# Augmented - we want to take relevant information and augment our input(prompt) to an LLM with relevant information.\n",
    "\n",
    "# Generation - Take the first two steps and pass it to the LLM for generative outputs."
   ]
  },
  {
   "cell_type": "code",
   "execution_count": null,
   "id": "3c883456-90d3-498d-940a-075a31576e44",
   "metadata": {},
   "outputs": [],
   "source": [
    "\n",
    "# Main goal of RAG is to improve generation of outputs in LLM.\n",
    "\n",
    "# 1. prevent hallucination - LLM are good at generating good looking text. but it doesn't mean that the data which we retrieved are factual.\n",
    "# RAG can help LLMs generate information based on relevant passages that are factual.\n",
    "\n",
    "# 2. Work with custom data - LLM's are trained with internet-scale data. \n",
    "# which means lots of the responses are generic.\n",
    "# RAG helps to creeate specific responses based on specific documents (e.g your own companies support documents)\n",
    "\n",
    "\n"
   ]
  },
  {
   "cell_type": "code",
   "execution_count": 6,
   "id": "def9a24d-32ba-4e77-8460-522d935b968b",
   "metadata": {},
   "outputs": [],
   "source": [
    "### How RAG can be useful ?\n",
    "\n",
    "\n",
    "# customer support Q&A -> Treat the sources and when some one asks a specific question it should be able to retrieve a \n",
    "# relevant information / passage and have an LLM to craft those snippets into an answer/ ex: chatbot for your documentation\n",
    "\n",
    "# Email chain analysis -> take some unstructured data from chain of emails and have an LLM to transform into structured data\n",
    "\n",
    "# company internal documentation chat \n",
    "\n",
    "# Textbook q&a\n",
    "\n",
    "\n",
    "\n",
    "# common : take your relevant documents to a query and process them with LLMs\n",
    "\n",
    "# we can consider LLM as a calculator for words\n"
   ]
  },
  {
   "cell_type": "code",
   "execution_count": 7,
   "id": "a5d4201f-2a53-4158-9ce1-513a6b8b5edb",
   "metadata": {},
   "outputs": [],
   "source": [
    "### why we need local RAG ?\n",
    "\n",
    "# privacy, speed, cost not dependant on vendors like open AI"
   ]
  },
  {
   "cell_type": "code",
   "execution_count": null,
   "id": "4ed83ebe-1fb5-48a8-b538-3e1607c7a464",
   "metadata": {},
   "outputs": [],
   "source": [
    "# # workflow\n",
    "\n",
    "# pdf -> pre process the text to smaller chunks -> smaller chunks (thi is our context) -> embedding model (turns text/query into numerical respresntation) ->\n",
    "# store in pytorch tesnsor \n",
    "\n",
    "\n",
    "# RAG paper -> https://arxiv.org/pdf/2312.10997.pdf\n",
    "\n"
   ]
  },
  {
   "cell_type": "code",
   "execution_count": 8,
   "id": "38ce011a-56b2-494d-9c2a-42faee905b5c",
   "metadata": {},
   "outputs": [],
   "source": [
    "\n",
    "# this is called document preprocessing and embedding creation\n",
    "\n",
    "# open a pdf document\n",
    "# format the text of pdf ready for an embedding model (in this case its called as chunks)\n",
    "# embed all of the chunks and turn it into a numerical representation which can store for later\n",
    "\n",
    "\n",
    "# this is for search and answer\n",
    "\n",
    "\n",
    "# build a retrieval system that uses vector search to find the relevant chunk of text based on a query\n",
    "# create a prompt that incorporates the retrieved pieces of text\n",
    "# generate an answer to the query based on the passages of the text book with LLM"
   ]
  },
  {
   "cell_type": "code",
   "execution_count": null,
   "id": "c0f6d02a-474c-47e6-9172-bde8311e2702",
   "metadata": {},
   "outputs": [],
   "source": [
    "\n",
    "\n",
    "### document preprocessing and embedding creation\n",
    "\n",
    "\n"
   ]
  },
  {
   "cell_type": "code",
   "execution_count": null,
   "id": "6d021af9-c58f-4b80-a0d6-87edb6b40a31",
   "metadata": {},
   "outputs": [],
   "source": [
    "# Ingredients :\n",
    "# pdf document of choice\n",
    "# embedding model of choice\n",
    "\n",
    "# steps :\n",
    "# import pdf document\n",
    "# process text for embedding (split into chunk of sentences)\n",
    "# embed text chunks with embedding model\n",
    "# save embedding to file for later"
   ]
  },
  {
   "cell_type": "code",
   "execution_count": 29,
   "id": "54aa60c9-2e71-4b1e-a722-c330e4eb73c6",
   "metadata": {},
   "outputs": [
    {
     "name": "stdout",
     "output_type": "stream",
     "text": [
      "True\n",
      "file Human-Nutrition-2020-Edition-1598491699.pdf exists\n"
     ]
    }
   ],
   "source": [
    "import os\n",
    "import requests\n",
    "\n",
    "\n",
    "# get the pdf document path \n",
    "\n",
    "pdf_path = \"Human-Nutrition-2020-Edition-1598491699.pdf\"\n",
    "\n",
    "# check\n",
    "print(os.path.exists(pdf_path))\n",
    "\n",
    "# download PDF\n",
    "\n",
    "if not os.path.exists(pdf_path):\n",
    "    print(\"doesn't exist...... downloding\")\n",
    "    url = \"https://pressbooks.oer.hawaii.edu/humannutrition2/open/download?type=pdf\"\n",
    "    \n",
    "    #the local filename to save the downloaded file \n",
    "    filename = pdf_path\n",
    "\n",
    "    #sending a get request to the URL\n",
    "    response = requests.get(url)\n",
    "\n",
    "\n",
    "    # check if the request is succesfull\n",
    "    if response.status_code == 200:\n",
    "        # open the file and save it\n",
    "        with open(filename, \"wb\") as file:\n",
    "            file.write(response.content)\n",
    "        print(f\"file has been downloaded and saved as {filename}\")\n",
    "\n",
    "    else:\n",
    "        print(f\"{response.status_code}\")\n",
    "\n",
    "else:\n",
    "    print(f\"file {pdf_path} exists\") \n"
   ]
  },
  {
   "cell_type": "markdown",
   "id": "f18accf8-cc44-416c-ac6c-61ebef25c5bd",
   "metadata": {},
   "source": [
    "# Opening the PDF"
   ]
  },
  {
   "cell_type": "code",
   "execution_count": 45,
   "id": "81b16fc3-3e83-4f04-8429-5a27355ac1f5",
   "metadata": {},
   "outputs": [
    {
     "data": {
      "application/vnd.jupyter.widget-view+json": {
       "model_id": "fe80d54d85ac45c8beb05d7ff5fe6c30",
       "version_major": 2,
       "version_minor": 0
      },
      "text/plain": [
       "0it [00:00, ?it/s]"
      ]
     },
     "metadata": {},
     "output_type": "display_data"
    },
    {
     "data": {
      "text/plain": [
       "[{'page_number': -41,\n",
       "  'page_char_count': 29,\n",
       "  'page_word_count': 4,\n",
       "  'page_sentence_count': 1,\n",
       "  'page_token_count': 7.25,\n",
       "  'text': 'Human Nutrition: 2020 Edition'},\n",
       " {'page_number': -40,\n",
       "  'page_char_count': 0,\n",
       "  'page_word_count': 1,\n",
       "  'page_sentence_count': 1,\n",
       "  'page_token_count': 0.0,\n",
       "  'text': ''},\n",
       " {'page_number': -39,\n",
       "  'page_char_count': 320,\n",
       "  'page_word_count': 54,\n",
       "  'page_sentence_count': 1,\n",
       "  'page_token_count': 80.0,\n",
       "  'text': 'Human Nutrition: 2020  Edition  UNIVERSITY OF HAWAI‘I AT MĀNOA  FOOD SCIENCE AND HUMAN  NUTRITION PROGRAM  ALAN TITCHENAL, SKYLAR HARA,  NOEMI ARCEO CAACBAY, WILLIAM  MEINKE-LAU, YA-YUN YANG, MARIE  KAINOA FIALKOWSKI REVILLA,  JENNIFER DRAPER, GEMADY  LANGFELDER, CHERYL GIBBY, CHYNA  NICOLE CHUN, AND ALLISON  CALABRESE'},\n",
       " {'page_number': -38,\n",
       "  'page_char_count': 212,\n",
       "  'page_word_count': 32,\n",
       "  'page_sentence_count': 1,\n",
       "  'page_token_count': 53.0,\n",
       "  'text': 'Human Nutrition: 2020 Edition by University of Hawai‘i at Mānoa Food Science and  Human Nutrition Program is licensed under a Creative Commons Attribution 4.0  International License, except where otherwise noted.'},\n",
       " {'page_number': -37,\n",
       "  'page_char_count': 797,\n",
       "  'page_word_count': 147,\n",
       "  'page_sentence_count': 3,\n",
       "  'page_token_count': 199.25,\n",
       "  'text': 'Contents  Preface  University of Hawai‘i at Mānoa Food Science and  Human Nutrition Program and Human Nutrition  Program  xxv  About the Contributors  University of Hawai‘i at Mānoa Food Science and  Human Nutrition Program and Human Nutrition  Program  xxvi  Acknowledgements  University of Hawai‘i at Mānoa Food Science and  Human Nutrition Program and Human Nutrition  Program  xl  Part I. Chapter 1. Basic Concepts in Nutrition  Introduction  University of Hawai‘i at Mānoa Food Science and  Human Nutrition Program and Human Nutrition  Program  3  Food Quality  University of Hawai‘i at Mānoa Food Science and  Human Nutrition Program and Human Nutrition  Program  14  Units of Measure  University of Hawai‘i at Mānoa Food Science and  Human Nutrition Program and Human Nutrition  Program  18'},\n",
       " {'page_number': -36,\n",
       "  'page_char_count': 976,\n",
       "  'page_word_count': 179,\n",
       "  'page_sentence_count': 3,\n",
       "  'page_token_count': 244.0,\n",
       "  'text': 'Lifestyles and Nutrition  University of Hawai‘i at Mānoa Food Science and  Human Nutrition Program and Human Nutrition  Program  21  Achieving a Healthy Diet  University of Hawai‘i at Mānoa Food Science and  Human Nutrition Program and Human Nutrition  Program  30  Research and the Scientific Method  University of Hawai‘i at Mānoa Food Science and  Human Nutrition Program and Human Nutrition  Program  34  Types of Scientific Studies  University of Hawai‘i at Mānoa Food Science and  Human Nutrition Program and Human Nutrition  Program  41  Part II. Chapter 2. The Human Body  Introduction  University of Hawai‘i at Mānoa Food Science and  Human Nutrition Program and Human Nutrition  Program  55  Basic Biology, Anatomy, and Physiology  University of Hawai‘i at Mānoa Food Science and  Human Nutrition Program and Human Nutrition  Program  62  The Digestive System  University of Hawai‘i at Mānoa Food Science and  Human Nutrition Program and Human Nutrition  Program  68'},\n",
       " {'page_number': -35,\n",
       "  'page_char_count': 1037,\n",
       "  'page_word_count': 191,\n",
       "  'page_sentence_count': 1,\n",
       "  'page_token_count': 259.25,\n",
       "  'text': 'The Cardiovascular System  University of Hawai‘i at Mānoa Food Science and  Human Nutrition Program and Human Nutrition  Program  82  Central Nervous System  University of Hawai‘i at Mānoa Food Science and  Human Nutrition Program and Human Nutrition  Program  94  The Respiratory System  University of Hawai‘i at Mānoa Food Science and  Human Nutrition Program and Human Nutrition  Program  99  The Endocrine System  University of Hawai‘i at Mānoa Food Science and  Human Nutrition Program and Human Nutrition  Program  106  The Urinary System  University of Hawai‘i at Mānoa Food Science and  Human Nutrition Program and Human Nutrition  Program  110  The Muscular System  University of Hawai‘i at Mānoa Food Science and  Human Nutrition Program and Human Nutrition  Program  117  The Skeletal System  University of Hawai‘i at Mānoa Food Science and  Human Nutrition Program and Human Nutrition  Program  120  The Immune System  University of Hawai‘i at Mānoa Food Science and  Human Nutrition Program and Human Nutrition  Program  129'},\n",
       " {'page_number': -34,\n",
       "  'page_char_count': 1047,\n",
       "  'page_word_count': 188,\n",
       "  'page_sentence_count': 3,\n",
       "  'page_token_count': 261.75,\n",
       "  'text': 'Indicators of Health: Body Mass Index, Body Fat  Content, and Fat Distribution  University of Hawai‘i at Mānoa Food Science and  Human Nutrition Program and Human Nutrition  Program  133  Part III. Chapter 3. Water and Electrolytes  Introduction  University of Hawai‘i at Mānoa Food Science and  Human Nutrition Program and Human Nutrition  Program  145  Overview of Fluid and Electrolyte Balance  University of Hawai‘i at Mānoa Food Science and  Human Nutrition Program and Human Nutrition  Program  150  Water’s Importance to Vitality  University of Hawai‘i at Mānoa Food Science and  Human Nutrition Program and Human Nutrition  Program  156  Regulation of Water Balance  University of Hawai‘i at Mānoa Food Science and  Human Nutrition Program and Human Nutrition  Program  162  Electrolytes Important for Fluid Balance  University of Hawai‘i at Mānoa Food Science and  Human Nutrition Program and Human Nutrition  Program  172  Sodium  University of Hawai‘i at Mānoa Food Science and  Human Nutrition Program and Human Nutrition  Program  176'},\n",
       " {'page_number': -33,\n",
       "  'page_char_count': 947,\n",
       "  'page_word_count': 170,\n",
       "  'page_sentence_count': 3,\n",
       "  'page_token_count': 236.75,\n",
       "  'text': 'Chloride  University of Hawai‘i at Mānoa Food Science and  Human Nutrition Program and Human Nutrition  Program  190  Potassium  University of Hawai‘i at Mānoa Food Science and  Human Nutrition Program and Human Nutrition  Program  195  Consequences of Deficiency or Excess  University of Hawai‘i at Mānoa Food Science and  Human Nutrition Program and Human Nutrition  Program  199  Water Concerns  University of Hawai‘i at Mānoa Food Science and  Human Nutrition Program and Human Nutrition  Program  209  Popular Beverage Choices  University of Hawai‘i at Mānoa Food Science and  Human Nutrition Program and Human Nutrition  Program  216  Part IV. Chapter 4. Carbohydrates  Introduction  University of Hawai‘i at Mānoa Food Science and  Human Nutrition Program and Human Nutrition  Program  229  Digestion and Absorption of Carbohydrates  University of Hawai‘i at Mānoa Food Science and  Human Nutrition Program and Human Nutrition  Program  240'},\n",
       " {'page_number': -32,\n",
       "  'page_char_count': 1024,\n",
       "  'page_word_count': 189,\n",
       "  'page_sentence_count': 3,\n",
       "  'page_token_count': 256.0,\n",
       "  'text': 'The Functions of Carbohydrates in the Body  University of Hawai‘i at Mānoa Food Science and  Human Nutrition Program and Human Nutrition  Program  253  Health Consequences and Benefits of High- Carbohydrate Diets  University of Hawai‘i at Mānoa Food Science and  Human Nutrition Program and Human Nutrition  Program  260  Carbohydrates and Personal Diet Choices  University of Hawai‘i at Mānoa Food Science and  Human Nutrition Program and Human Nutrition  Program  271  Part V. Chapter 5. Lipids  Introduction  University of Hawai‘i at Mānoa Food Science and  Human Nutrition Program and Human Nutrition  Program  291  The Functions of Lipids in the Body  University of Hawai‘i at Mānoa Food Science and  Human Nutrition Program and Human Nutrition  Program  296  The Role of Lipids in Food  University of Hawai‘i at Mānoa Food Science and  Human Nutrition Program and Human Nutrition  Program  301  How Lipids Work  University of Hawai‘i at Mānoa Food Science and  Human Nutrition Program and Human Nutrition  Program  305'},\n",
       " {'page_number': -31,\n",
       "  'page_char_count': 973,\n",
       "  'page_word_count': 179,\n",
       "  'page_sentence_count': 3,\n",
       "  'page_token_count': 243.25,\n",
       "  'text': 'Nonessential and Essential Fatty Acids  University of Hawai‘i at Mānoa Food Science and  Human Nutrition Program and Human Nutrition  Program  313  Digestion and Absorption of Lipids  University of Hawai‘i at Mānoa Food Science and  Human Nutrition Program and Human Nutrition  Program  319  Tools for Change  University of Hawai‘i at Mānoa Food Science and  Human Nutrition Program and Human Nutrition  Program  331  Lipids and the Food Industry  University of Hawai‘i at Mānoa Food Science and  Human Nutrition Program and Human Nutrition  Program  340  Lipids and Disease  University of Hawai‘i at Mānoa Food Science and  Human Nutrition Program and Human Nutrition  Program  345  A Personal Choice about Lipids  University of Hawai‘i at Mānoa Food Science and  Human Nutrition Program and Human Nutrition  Program  351  Part VI. Chapter 6. Protein  Introduction  University of Hawai‘i at Mānoa Food Science and  Human Nutrition Program and Human Nutrition  Program  359'},\n",
       " {'page_number': -30,\n",
       "  'page_char_count': 988,\n",
       "  'page_word_count': 179,\n",
       "  'page_sentence_count': 1,\n",
       "  'page_token_count': 247.0,\n",
       "  'text': 'Defining Protein  University of Hawai‘i at Mānoa Food Science and  Human Nutrition Program and Human Nutrition  Program  363  The Role of Proteins in Foods: Cooking and  Denaturation  University of Hawai‘i at Mānoa Food Science and  Human Nutrition Program and Human Nutrition  Program  374  Protein Digestion and Absorption  University of Hawai‘i at Mānoa Food Science and  Human Nutrition Program and Human Nutrition  Program  378  Protein’s Functions in the Body  University of Hawai‘i at Mānoa Food Science and  Human Nutrition Program and Human Nutrition  Program  383  Diseases Involving Proteins  University of Hawai‘i at Mānoa Food Science and  Human Nutrition Program and Human Nutrition  Program  395  Proteins in a Nutshell  University of Hawai‘i at Mānoa Food Science and  Human Nutrition Program and Human Nutrition  Program  405  Proteins, Diet, and Personal Choices  University of Hawai‘i at Mānoa Food Science and  Human Nutrition Program and Human Nutrition  Program  409'},\n",
       " {'page_number': -29,\n",
       "  'page_char_count': 973,\n",
       "  'page_word_count': 177,\n",
       "  'page_sentence_count': 5,\n",
       "  'page_token_count': 243.25,\n",
       "  'text': 'Part VII. Chapter 7. Alcohol  Introduction  University of Hawai‘i at Mānoa Food Science and  Human Nutrition Program and Human Nutrition  Program  431  Alcohol Metabolism  University of Hawai‘i at Mānoa Food Science and  Human Nutrition Program and Human Nutrition  Program  436  Health Consequences of Alcohol Abuse  University of Hawai‘i at Mānoa Food Science and  Human Nutrition Program and Human Nutrition  Program  442  Health Benefits of Moderate Alcohol Intake  University of Hawai‘i at Mānoa Food Science and  Human Nutrition Program and Human Nutrition  Program  448  Part VIII. Chapter 8. Energy  Introduction  University of Hawai‘i at Mānoa Food Science and  Human Nutrition Program and Human Nutrition  Program  453  The Atom  University of Hawai‘i at Mānoa Food Science and  Human Nutrition Program and Human Nutrition  Program  460  Weight Management  University of Hawai‘i at Mānoa Food Science and  Human Nutrition Program and Human Nutrition  Program  472'},\n",
       " {'page_number': -28,\n",
       "  'page_char_count': 1012,\n",
       "  'page_word_count': 176,\n",
       "  'page_sentence_count': 3,\n",
       "  'page_token_count': 253.0,\n",
       "  'text': 'Factors Affecting Energy Intake  University of Hawai‘i at Mānoa Food Science and  Human Nutrition Program and Human Nutrition  Program  485  Factors Affecting Energy Expenditure  University of Hawai‘i at Mānoa Food Science and  Human Nutrition Program and Human Nutrition  Program  492  Dietary, Behavioral, and Physical Activity  Recommendations for Weight Management  University of Hawai‘i at Mānoa Food Science and  Human Nutrition Program and Human Nutrition  Program  501  Part IX. Chapter 9. Vitamins  Introduction  University of Hawai‘i at Mānoa Food Science and  Human Nutrition Program and Human Nutrition  Program  515  Fat-Soluble Vitamins  University of Hawai‘i at Mānoa Food Science and  Human Nutrition Program and Human Nutrition  Program  521  Water-Soluble Vitamins  University of Hawai‘i at Mānoa Food Science and  Human Nutrition Program and Human Nutrition  Program  550  Antioxidants  University of Hawai‘i at Mānoa Food Science and  Human Nutrition Program and Human Nutrition  Program  593'},\n",
       " {'page_number': -27,\n",
       "  'page_char_count': 880,\n",
       "  'page_word_count': 162,\n",
       "  'page_sentence_count': 3,\n",
       "  'page_token_count': 220.0,\n",
       "  'text': 'The Body’s Offense  University of Hawai‘i at Mānoa Food Science and  Human Nutrition Program and Human Nutrition  Program  597  Phytochemicals  University of Hawai‘i at Mānoa Food Science and  Human Nutrition Program and Human Nutrition  Program  600  Part X. Chapter 10. Major Minerals  Introduction  University of Hawai‘i at Mānoa Food Science and  Human Nutrition Program and Human Nutrition  Program  609  Calcium  University of Hawai‘i at Mānoa Food Science and  Human Nutrition Program and Human Nutrition  Program  613  Phosphorus  University of Hawai‘i at Mānoa Food Science and  Human Nutrition Program and Human Nutrition  Program  631  Sulfur  University of Hawai‘i at Mānoa Food Science and  Human Nutrition Program and Human Nutrition  Program  635  Magnesium  University of Hawai‘i at Mānoa Food Science and  Human Nutrition Program and Human Nutrition  Program  640'},\n",
       " {'page_number': -26,\n",
       "  'page_char_count': 870,\n",
       "  'page_word_count': 163,\n",
       "  'page_sentence_count': 3,\n",
       "  'page_token_count': 217.5,\n",
       "  'text': 'Summary of Major Minerals  University of Hawai‘i at Mānoa Food Science and  Human Nutrition Program and Human Nutrition  Program  645  Part XI. Chapter 11. Trace Minerals  Introduction  University of Hawai‘i at Mānoa Food Science and  Human Nutrition Program and Human Nutrition  Program  651  Iron  University of Hawai‘i at Mānoa Food Science and  Human Nutrition Program and Human Nutrition  Program  655  Copper  University of Hawai‘i at Mānoa Food Science and  Human Nutrition Program and Human Nutrition  Program  666  Zinc  University of Hawai‘i at Mānoa Food Science and  Human Nutrition Program and Human Nutrition  Program  671  Selenium  University of Hawai‘i at Mānoa Food Science and  Human Nutrition Program and Human Nutrition  Program  675  Iodine  University of Hawai‘i at Mānoa Food Science and  Human Nutrition Program and Human Nutrition  Program  681'},\n",
       " {'page_number': -25,\n",
       "  'page_char_count': 925,\n",
       "  'page_word_count': 166,\n",
       "  'page_sentence_count': 3,\n",
       "  'page_token_count': 231.25,\n",
       "  'text': 'Chromium  University of Hawai‘i at Mānoa Food Science and  Human Nutrition Program and Human Nutrition  Program  686  Manganese  University of Hawai‘i at Mānoa Food Science and  Human Nutrition Program and Human Nutrition  Program  689  Molybdenum  University of Hawai‘i at Mānoa Food Science and  Human Nutrition Program and Human Nutrition  Program  692  Fluoride  University of Hawai‘i at Mānoa Food Science and  Human Nutrition Program and Human Nutrition  Program  695  Summary of Trace Minerals  University of Hawai‘i at Mānoa Food Science and  Human Nutrition Program and Human Nutrition  Program  700  Part XII. Chapter 12. Nutrition Applications  Introduction  University of Hawai‘i at Mānoa Food Science and  Human Nutrition Program and Human Nutrition  Program  707  Understanding Dietary Reference Intakes  University of Hawai‘i at Mānoa Food Science and  Human Nutrition Program and Human Nutrition  Program  710'},\n",
       " {'page_number': -24,\n",
       "  'page_char_count': 1030,\n",
       "  'page_word_count': 183,\n",
       "  'page_sentence_count': 3,\n",
       "  'page_token_count': 257.5,\n",
       "  'text': 'Discovering Nutrition Facts  University of Hawai‘i at Mānoa Food Science and  Human Nutrition Program and Human Nutrition  Program  718  Building Healthy Eating Patterns  University of Hawai‘i at Mānoa Food Science and  Human Nutrition Program and Human Nutrition  Program  740  MyPlate Planner  University of Hawai‘i at Mānoa Food Science and  Human Nutrition Program and Human Nutrition  Program  745  Pacific Based Dietary Guidelines  University of Hawai‘i at Mānoa Food Science and  Human Nutrition Program and Human Nutrition  Program  760  Understanding the Bigger Picture of Dietary  Guidelines  University of Hawai‘i at Mānoa Food Science and  Human Nutrition Program and Human Nutrition  Program  768  Part XIII. Chapter 13. Lifespan Nutrition From  Pregnancy to the Toddler Years  Introduction  University of Hawai‘i at Mānoa Food Science and  Human Nutrition Program and Human Nutrition  Program  779  Pregnancy  University of Hawai‘i at Mānoa Food Science and  Human Nutrition Program and Human Nutrition  Program  785'},\n",
       " {'page_number': -23,\n",
       "  'page_char_count': 802,\n",
       "  'page_word_count': 145,\n",
       "  'page_sentence_count': 3,\n",
       "  'page_token_count': 200.5,\n",
       "  'text': 'Infancy  University of Hawai‘i at Mānoa Food Science and  Human Nutrition Program and Human Nutrition  Program  807  Toddler Years  University of Hawai‘i at Mānoa Food Science and  Human Nutrition Program and Human Nutrition  Program  852  Part XIV. Chapter 14. Lifespan Nutrition During  Childhood and Adolescence  Introduction  University of Hawai‘i at Mānoa Food Science and  Human Nutrition Program and Human Nutrition  Program  867  Childhood  University of Hawai‘i at Mānoa Food Science and  Human Nutrition Program and Human Nutrition  Program  871  Adolescence  University of Hawai‘i at Mānoa Food Science and  Human Nutrition Program and Human Nutrition  Program  884  Late Adolescence  University of Hawai‘i at Mānoa Food Science and  Human Nutrition Program and Human Nutrition  Program  889'},\n",
       " {'page_number': -22,\n",
       "  'page_char_count': 882,\n",
       "  'page_word_count': 159,\n",
       "  'page_sentence_count': 5,\n",
       "  'page_token_count': 220.5,\n",
       "  'text': 'Part XV. Chapter 15. Lifespan Nutrition in  Adulthood  Introduction  University of Hawai‘i at Mānoa Food Science and  Human Nutrition Program and Human Nutrition  Program  903  Young Adulthood  University of Hawai‘i at Mānoa Food Science and  Human Nutrition Program and Human Nutrition  Program  907  Middle Age  University of Hawai‘i at Mānoa Food Science and  Human Nutrition Program and Human Nutrition  Program  913  Older Adulthood: The Golden Years  University of Hawai‘i at Mānoa Food Science and  Human Nutrition Program and Human Nutrition  Program  919  Part XVI. Chapter 16. Performance Nutrition  Introduction  University of Hawai‘i at Mānoa Food Science and  Human Nutrition Program and Human Nutrition  Program  933  The Essential Elements of Physical Fitness  University of Hawai‘i at Mānoa Food Science and  Human Nutrition Program and Human Nutrition  Program  936'}]"
      ]
     },
     "execution_count": 45,
     "metadata": {},
     "output_type": "execute_result"
    }
   ],
   "source": [
    "import fitz # pip install pyMuPdf\n",
    "from tqdm.auto import tqdm\n",
    "\n",
    "\n",
    "# small helper / text formatting function to process the pdf\n",
    "\n",
    "def text_formatter(text: str) -> str:\n",
    "    \"\"\" performs minor formatting on text. \"\"\"\n",
    "    cleaned_text = text.replace(\"\\n\", \" \").strip()\n",
    "\n",
    "\n",
    "    # more text formatting can go here\n",
    "\n",
    "\n",
    "    return cleaned_text\n",
    "\n",
    "\n",
    "def open_and_read_pdf(pdf_path: str) -> list[dict]:\n",
    "    doc = fitz.open(pdf_path)\n",
    "    # empty list\n",
    "    pages_and_texts = []\n",
    "\n",
    "    for page_number, page in tqdm(enumerate(doc)):\n",
    "        text = page.get_text()\n",
    "        text = text_formatter(text=text)\n",
    "        pages_and_texts.append({\"page_number\": page_number - 41,\n",
    "        \"page_char_count\": len(text),\n",
    "        \"page_word_count\": len(text.split(\" \")),\n",
    "        \"page_sentence_count\": len(text.split(\". \")),\n",
    "        \"page_token_count\": len(text)/4, # 1 token ~ 4 characters\n",
    "        \"text\":text})\n",
    "\n",
    "\n",
    "    return pages_and_texts\n",
    "\n",
    "pages_and_texts = open_and_read_pdf(pdf_path=pdf_path)\n",
    "\n",
    "pages_and_texts[:20]"
   ]
  },
  {
   "cell_type": "code",
   "execution_count": 59,
   "id": "9669cbc3-e456-419a-93a9-1814211dec17",
   "metadata": {},
   "outputs": [
    {
     "data": {
      "text/plain": [
       "[{'page_number': 273,\n",
       "  'page_char_count': 1298,\n",
       "  'page_word_count': 316,\n",
       "  'page_sentence_count': 10,\n",
       "  'page_token_count': 324.5,\n",
       "  'text': 'Foods  Total  Carbohydrates  Sugars Fiber Added  Sugars  Banana  27 (1 medium)  14.40  3.1  0  Lentils  40 (1 c.)  3.50  16.0  0  Snap beans  8.7 (1 c.)  1.60  4.0  0  Green pepper  5.5 (1 medium)  2.90  2.0  0  Corn tortilla  10.7 (1)  0.20  1.5  0  Bread, wheat bran  17.2 (1 slice)  3.50  1.4  3.4  Bread, rye  15.5 (1 slice)  1.20  1.9  1.0  Bagel (plain)  53 (1 medium)  5.30  2.3  4.8  Brownie  36 (1 square)  20.50  1.2  20.0  Oatmeal cookie  22.3 (1 oz.)  12.00  2.0  7.7  Cornflakes  23 (1 c.)  1.50  0.3  1.5  Pretzels  47 (10 twists)  1.30  1.7  0  Popcorn  (homemade)  58 (100 g)  0.50  10.0  0  Skim milk  12 (1 c.)  12.00  0  0  Cream (half and  half)  0.65 (1 Tbs.)  0.02  0  0  Cream substitute  1.0 (1 tsp.)  1.00  0  1.0  Cheddar cheese  1.3 (1 slice)  0.50  0  0  Yogurt (with fruit)  32.3 (6 oz.)  32.30  0  19.4  Caesar dressing  2.8 (1 Tbs.)  2.80  0  2.4  Sources:  • National Nutrient Database for Standard Reference. US  Department of Agriculture. http://www.nal.usda.gov/fnic/ foodcomp/search/. Updated December 7, 2011. Accessed  September 17, 2017.  • Database for the Added Sugars Content of Selected Foods. US  Department of Agriculture. http://www.nal.usda.gov/fnic/ foodcomp/search/. Published February 2006. Accessed  Carbohydrates and Personal Diet Choices  |  273'},\n",
       " {'page_number': 666,\n",
       "  'page_char_count': 1524,\n",
       "  'page_word_count': 261,\n",
       "  'page_sentence_count': 27,\n",
       "  'page_token_count': 381.0,\n",
       "  'text': 'Copper  UNIVERSITY OF HAWAI‘I AT MĀNOA FOOD SCIENCE AND HUMAN  NUTRITION PROGRAM AND HUMAN NUTRITION PROGRAM  Copper, like iron, assists in electron transfer in the electron- transport chain. It is also an enzyme cofactor essential for iron  absorption and transport. The other important function of copper  is as an antioxidant. It is naturally present in several foods and  is generally accessible as a dietary supplement.1 A typical adult  body has a total copper content of 50-120 mg.2 The body maintains  copper level balance through absorption from the intestine and the  release of copper by the liver into bile. 3 Current studies indicate  that copper deficiency may be more frequent than what was  previously discovered, while copper toxicity is rare due to  conventional diets. 4 Symptoms of mild to moderate copper  1. Collins JF. Copper. In: Ross AC, Caballero B, Cousins RJ,  Tucker KL, Ziegler TR, eds. Modern Nutrition in Health  and Disease. 11th ed. Baltimore, MD: Lippincott Williams  & Wilkins; 2014:206-16.  2. Prohaska JR. Copper. In: Erdman JW, Macdonald IA,  Zeisel SH, eds. Present Knowledge in Nutrition. 10th ed.  Washington, DC: Wiley-Blackwell; 2012:540-53.  3. Institute of Medicine, Food and Nutrition Board. Dietary  Reference Intakes for Vitamin A, Vitamin K, Arsenic,  Boron, Chromium, Copper, Iodine, Iron, Manganese,  Molybdenum, Nickel, Silicon, Vanadium, and Zinc.  Washington, DC: National Academies Press; 2001.  4. de Romaña, D. L., Olivares, M., Uauy, R., & Araya, M.  666  |  Copper'},\n",
       " {'page_number': -4,\n",
       "  'page_char_count': 416,\n",
       "  'page_word_count': 74,\n",
       "  'page_sentence_count': 3,\n",
       "  'page_token_count': 104.0,\n",
       "  'text': 'Kellie Taguchi  Kellie is the Distance Education Coordinator for the College of  Tropical Agriculture and Human Resources at the University of  Hawai‘i at Mānoa.    Contact Person  Dr. Marie Kainoa Fialkowski Revilla  mariekf@hawaii.edu  808-956-8337  1955 East West Road  Honolulu, HI 96822  University of Hawaii at Manoa  Department of Human Nutrition, Food, and Animal Sciences  xxxviii  |  About the Contributors'}]"
      ]
     },
     "execution_count": 59,
     "metadata": {},
     "output_type": "execute_result"
    }
   ],
   "source": [
    "# choosing a page random\n",
    "\n",
    "import random\n",
    "\n",
    "random.sample(pages_and_texts, k=3)"
   ]
  },
  {
   "cell_type": "markdown",
   "id": "16a08b95-5800-4cc1-979d-7973ef8c2ed6",
   "metadata": {},
   "source": [
    "# Exploratory Data Analysis on Text"
   ]
  },
  {
   "cell_type": "code",
   "execution_count": 62,
   "id": "7b9607b6-f9bc-4404-aea7-6c05a86e8d72",
   "metadata": {},
   "outputs": [
    {
     "data": {
      "text/html": [
       "<div>\n",
       "<style scoped>\n",
       "    .dataframe tbody tr th:only-of-type {\n",
       "        vertical-align: middle;\n",
       "    }\n",
       "\n",
       "    .dataframe tbody tr th {\n",
       "        vertical-align: top;\n",
       "    }\n",
       "\n",
       "    .dataframe thead th {\n",
       "        text-align: right;\n",
       "    }\n",
       "</style>\n",
       "<table border=\"1\" class=\"dataframe\">\n",
       "  <thead>\n",
       "    <tr style=\"text-align: right;\">\n",
       "      <th></th>\n",
       "      <th>page_number</th>\n",
       "      <th>page_char_count</th>\n",
       "      <th>page_word_count</th>\n",
       "      <th>page_sentence_count</th>\n",
       "      <th>page_token_count</th>\n",
       "      <th>text</th>\n",
       "    </tr>\n",
       "  </thead>\n",
       "  <tbody>\n",
       "    <tr>\n",
       "      <th>0</th>\n",
       "      <td>-41</td>\n",
       "      <td>29</td>\n",
       "      <td>4</td>\n",
       "      <td>1</td>\n",
       "      <td>7.25</td>\n",
       "      <td>Human Nutrition: 2020 Edition</td>\n",
       "    </tr>\n",
       "    <tr>\n",
       "      <th>1</th>\n",
       "      <td>-40</td>\n",
       "      <td>0</td>\n",
       "      <td>1</td>\n",
       "      <td>1</td>\n",
       "      <td>0.00</td>\n",
       "      <td></td>\n",
       "    </tr>\n",
       "    <tr>\n",
       "      <th>2</th>\n",
       "      <td>-39</td>\n",
       "      <td>320</td>\n",
       "      <td>54</td>\n",
       "      <td>1</td>\n",
       "      <td>80.00</td>\n",
       "      <td>Human Nutrition: 2020  Edition  UNIVERSITY OF ...</td>\n",
       "    </tr>\n",
       "    <tr>\n",
       "      <th>3</th>\n",
       "      <td>-38</td>\n",
       "      <td>212</td>\n",
       "      <td>32</td>\n",
       "      <td>1</td>\n",
       "      <td>53.00</td>\n",
       "      <td>Human Nutrition: 2020 Edition by University of...</td>\n",
       "    </tr>\n",
       "    <tr>\n",
       "      <th>4</th>\n",
       "      <td>-37</td>\n",
       "      <td>797</td>\n",
       "      <td>147</td>\n",
       "      <td>3</td>\n",
       "      <td>199.25</td>\n",
       "      <td>Contents  Preface  University of Hawai‘i at Mā...</td>\n",
       "    </tr>\n",
       "  </tbody>\n",
       "</table>\n",
       "</div>"
      ],
      "text/plain": [
       "   page_number  page_char_count  page_word_count  page_sentence_count  \\\n",
       "0          -41               29                4                    1   \n",
       "1          -40                0                1                    1   \n",
       "2          -39              320               54                    1   \n",
       "3          -38              212               32                    1   \n",
       "4          -37              797              147                    3   \n",
       "\n",
       "   page_token_count                                               text  \n",
       "0              7.25                      Human Nutrition: 2020 Edition  \n",
       "1              0.00                                                     \n",
       "2             80.00  Human Nutrition: 2020  Edition  UNIVERSITY OF ...  \n",
       "3             53.00  Human Nutrition: 2020 Edition by University of...  \n",
       "4            199.25  Contents  Preface  University of Hawai‘i at Mā...  "
      ]
     },
     "execution_count": 62,
     "metadata": {},
     "output_type": "execute_result"
    }
   ],
   "source": [
    "import pandas as pd\n",
    "\n",
    "data = pd.DataFrame(pages_and_texts)\n",
    "\n",
    "data.head()"
   ]
  },
  {
   "cell_type": "code",
   "execution_count": 76,
   "id": "b03212fc-b7d3-4c85-a03a-fecbc65d7002",
   "metadata": {},
   "outputs": [
    {
     "data": {
      "text/plain": [
       "2308"
      ]
     },
     "execution_count": 76,
     "metadata": {},
     "output_type": "execute_result"
    }
   ],
   "source": [
    "data['page_char_count'].max()"
   ]
  },
  {
   "cell_type": "code",
   "execution_count": null,
   "id": "1a62cb08-b3de-45b4-9e17-4510030e461d",
   "metadata": {},
   "outputs": [],
   "source": [
    "data['page_token_count'].max()"
   ]
  }
 ],
 "metadata": {
  "kernelspec": {
   "display_name": "Python 3 (ipykernel)",
   "language": "python",
   "name": "python3"
  },
  "language_info": {
   "codemirror_mode": {
    "name": "ipython",
    "version": 3
   },
   "file_extension": ".py",
   "mimetype": "text/x-python",
   "name": "python",
   "nbconvert_exporter": "python",
   "pygments_lexer": "ipython3",
   "version": "3.9.5"
  }
 },
 "nbformat": 4,
 "nbformat_minor": 5
}
