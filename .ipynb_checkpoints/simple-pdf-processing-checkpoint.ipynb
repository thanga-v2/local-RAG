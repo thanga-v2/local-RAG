{
 "cells": [
  {
   "cell_type": "code",
   "execution_count": 148,
   "id": "10bfc116-0193-45c0-87f3-fe31528dfdc8",
   "metadata": {},
   "outputs": [
    {
     "name": "stdout",
     "output_type": "stream",
     "text": [
      "True\n",
      "file WORKSHOP-III.pdf exists\n"
     ]
    }
   ],
   "source": [
    "import os\n",
    "import requests\n",
    "\n",
    "\n",
    "# get the pdf document path \n",
    "\n",
    "pdf_path = \"WORKSHOP-III.pdf\"\n",
    "\n",
    "# check\n",
    "print(os.path.exists(pdf_path))\n",
    "\n",
    "# download PDF\n",
    "\n",
    "if not os.path.exists(pdf_path):\n",
    "    print(\"doesn't exist...... downloding\")\n",
    "    url = \"https://districts.ecourts.gov.in/sites/default/files/BOOK%20FOR%20WORKSHOP-III.pdf\"\n",
    "    \n",
    "    #the local filename to save the downloaded file \n",
    "    filename = pdf_path\n",
    "\n",
    "    #sending a get request to the URL\n",
    "    response = requests.get(url)\n",
    "\n",
    "\n",
    "    # check if the request is succesfull\n",
    "    if response.status_code == 200:\n",
    "        # open the file and save it\n",
    "        with open(filename, \"wb\") as file:\n",
    "            file.write(response.content)\n",
    "        print(f\"file has been downloaded and saved as {filename}\")\n",
    "\n",
    "    else:\n",
    "        print(f\"{response.status_code}\")\n",
    "\n",
    "else:\n",
    "    print(f\"file {pdf_path} exists\")"
   ]
  },
  {
   "cell_type": "code",
   "execution_count": 2,
   "id": "b546f8a6-65a6-4ba5-a45e-0e40fa7cebdf",
   "metadata": {},
   "outputs": [
    {
     "name": "stdout",
     "output_type": "stream",
     "text": [
      "Requirement already satisfied: PyMuPdf in /Users/thangarajmuruganantham/.pyenv/versions/3.9.5/lib/python3.9/site-packages (1.23.26)\n",
      "Requirement already satisfied: PyMuPDFb==1.23.22 in /Users/thangarajmuruganantham/.pyenv/versions/3.9.5/lib/python3.9/site-packages (from PyMuPdf) (1.23.22)\n",
      "Note: you may need to restart the kernel to use updated packages.\n"
     ]
    }
   ],
   "source": [
    "pip install PyMuPdf"
   ]
  },
  {
   "cell_type": "code",
   "execution_count": 3,
   "id": "8ef487e7-db3e-4051-a1b1-c02d662fade9",
   "metadata": {},
   "outputs": [],
   "source": [
    "import fitz"
   ]
  },
  {
   "cell_type": "code",
   "execution_count": 4,
   "id": "c6325e05-2adc-43e9-a9ed-4b5ddfdba0a6",
   "metadata": {},
   "outputs": [],
   "source": [
    "from tqdm.auto import tqdm"
   ]
  },
  {
   "cell_type": "code",
   "execution_count": 149,
   "id": "e30e02a5-bb8f-49eb-9739-bdfd29444a8f",
   "metadata": {},
   "outputs": [],
   "source": [
    "# small helper / text formatting function to process the pdf\n",
    "\n",
    "def text_formatter(text: str) -> str:\n",
    "    \"\"\" performs minor formatting on text. \"\"\"\n",
    "    cleaned_text = text.replace(\"\\n\", \" \").strip()\n",
    "\n",
    "\n",
    "    # more text formatting can go here\n",
    "\n",
    "\n",
    "    return cleaned_text"
   ]
  },
  {
   "cell_type": "code",
   "execution_count": 150,
   "id": "73f7eeb3-15ca-40c2-9a6a-5ddd47c7f439",
   "metadata": {},
   "outputs": [
    {
     "name": "stdout",
     "output_type": "stream",
     "text": [
      "Document('WORKSHOP-III.pdf')\n"
     ]
    },
    {
     "data": {
      "application/vnd.jupyter.widget-view+json": {
       "model_id": "e15bbbba7acf4669848afea094a92311",
       "version_major": 2,
       "version_minor": 0
      },
      "text/plain": [
       "0it [00:00, ?it/s]"
      ]
     },
     "metadata": {},
     "output_type": "display_data"
    }
   ],
   "source": [
    "# pages_and_texts is very important\n",
    "# see carefully how its getting generated\n",
    "\n",
    "def open_and_read_pdf(pdf_path: str) -> list[dict]:\n",
    "    doc = fitz.open(pdf_path)\n",
    "    print(doc)\n",
    "    # empty list\n",
    "    pages_and_texts = []\n",
    "\n",
    "    for page_number, page in tqdm(enumerate(doc)):\n",
    "        # getting the text from pdf\n",
    "        text = page.get_text()\n",
    "        text = text_formatter(text=text)\n",
    "        # pages_and_texts.append({\"page_number\": page_number,\n",
    "        # \"page_char_count\": len(text),\n",
    "        # \"page_word_count\": len(text.split(\" \")),\n",
    "        # \"page_sentence_count\": len(text.split(\". \")),\n",
    "        # \"page_token_count\": len(text)/4, # 1 token ~ 4 characters\n",
    "        # \"text\":text})\n",
    "        \n",
    "    return pages_and_texts\n",
    "\n",
    "\n",
    "\n",
    "\n",
    "pages_and_texts = open_and_read_pdf(pdf_path=pdf_path)"
   ]
  },
  {
   "cell_type": "code",
   "execution_count": 153,
   "id": "35e16a0e-8141-4cd2-8e80-a08e9ca18b54",
   "metadata": {},
   "outputs": [
    {
     "ename": "SyntaxError",
     "evalue": "invalid syntax (1451109245.py, line 1)",
     "output_type": "error",
     "traceback": [
      "\u001b[0;36m  Cell \u001b[0;32mIn[153], line 1\u001b[0;36m\u001b[0m\n\u001b[0;31m    [:10]\u001b[0m\n\u001b[0m     ^\u001b[0m\n\u001b[0;31mSyntaxError\u001b[0m\u001b[0;31m:\u001b[0m invalid syntax\n"
     ]
    }
   ],
   "source": [
    "pages_and_texts[:10]"
   ]
  },
  {
   "cell_type": "code",
   "execution_count": 143,
   "id": "bf743f5f-00b1-472d-8b77-508100341a29",
   "metadata": {},
   "outputs": [
    {
     "name": "stdout",
     "output_type": "stream",
     "text": [
      "Requirement already satisfied: PyMuPDF in /Users/thangarajmuruganantham/.pyenv/versions/3.9.5/lib/python3.9/site-packages (1.23.26)\n",
      "Collecting pytesseract\n",
      "  Downloading pytesseract-0.3.10-py3-none-any.whl.metadata (11 kB)\n",
      "Requirement already satisfied: PyMuPDFb==1.23.22 in /Users/thangarajmuruganantham/.pyenv/versions/3.9.5/lib/python3.9/site-packages (from PyMuPDF) (1.23.22)\n",
      "Requirement already satisfied: packaging>=21.3 in /Users/thangarajmuruganantham/.pyenv/versions/3.9.5/lib/python3.9/site-packages (from pytesseract) (23.2)\n",
      "Requirement already satisfied: Pillow>=8.0.0 in /Users/thangarajmuruganantham/.pyenv/versions/3.9.5/lib/python3.9/site-packages (from pytesseract) (10.2.0)\n",
      "Downloading pytesseract-0.3.10-py3-none-any.whl (14 kB)\n",
      "Installing collected packages: pytesseract\n",
      "Successfully installed pytesseract-0.3.10\n",
      "Note: you may need to restart the kernel to use updated packages.\n"
     ]
    }
   ],
   "source": [
    "pip install PyMuPDF pytesseract"
   ]
  },
  {
   "cell_type": "code",
   "execution_count": 144,
   "id": "08fb4ac4-c843-4982-94d4-c1eb5d868ebf",
   "metadata": {},
   "outputs": [
    {
     "ename": "TypeError",
     "evalue": "Unsupported image object",
     "output_type": "error",
     "traceback": [
      "\u001b[0;31m---------------------------------------------------------------------------\u001b[0m",
      "\u001b[0;31mTypeError\u001b[0m                                 Traceback (most recent call last)",
      "Cell \u001b[0;32mIn[144], line 19\u001b[0m\n\u001b[1;32m     17\u001b[0m base_image \u001b[38;5;241m=\u001b[39m doc\u001b[38;5;241m.\u001b[39mextract_image(xref)\n\u001b[1;32m     18\u001b[0m image_bytes \u001b[38;5;241m=\u001b[39m base_image[\u001b[38;5;124m\"\u001b[39m\u001b[38;5;124mimage\u001b[39m\u001b[38;5;124m\"\u001b[39m]\n\u001b[0;32m---> 19\u001b[0m text \u001b[38;5;241m=\u001b[39m \u001b[43mocr_engine\u001b[49m\u001b[43m(\u001b[49m\u001b[43mimage_bytes\u001b[49m\u001b[43m)\u001b[49m\n\u001b[1;32m     20\u001b[0m \u001b[38;5;28mprint\u001b[39m(\u001b[38;5;124mf\u001b[39m\u001b[38;5;124m\"\u001b[39m\u001b[38;5;124mText from image \u001b[39m\u001b[38;5;132;01m{\u001b[39;00mimg_idx\u001b[38;5;250m \u001b[39m\u001b[38;5;241m+\u001b[39m\u001b[38;5;250m \u001b[39m\u001b[38;5;241m1\u001b[39m\u001b[38;5;132;01m}\u001b[39;00m\u001b[38;5;124m on page \u001b[39m\u001b[38;5;132;01m{\u001b[39;00mpage\u001b[38;5;241m.\u001b[39mnumber\u001b[38;5;132;01m}\u001b[39;00m\u001b[38;5;124m:\u001b[39m\u001b[38;5;124m\"\u001b[39m)\n\u001b[1;32m     21\u001b[0m \u001b[38;5;28mprint\u001b[39m(text)\n",
      "File \u001b[0;32m~/.pyenv/versions/3.9.5/lib/python3.9/site-packages/pytesseract/pytesseract.py:423\u001b[0m, in \u001b[0;36mimage_to_string\u001b[0;34m(image, lang, config, nice, output_type, timeout)\u001b[0m\n\u001b[1;32m    418\u001b[0m \u001b[38;5;250m\u001b[39m\u001b[38;5;124;03m\"\"\"\u001b[39;00m\n\u001b[1;32m    419\u001b[0m \u001b[38;5;124;03mReturns the result of a Tesseract OCR run on the provided image to string\u001b[39;00m\n\u001b[1;32m    420\u001b[0m \u001b[38;5;124;03m\"\"\"\u001b[39;00m\n\u001b[1;32m    421\u001b[0m args \u001b[38;5;241m=\u001b[39m [image, \u001b[38;5;124m'\u001b[39m\u001b[38;5;124mtxt\u001b[39m\u001b[38;5;124m'\u001b[39m, lang, config, nice, timeout]\n\u001b[0;32m--> 423\u001b[0m \u001b[38;5;28;01mreturn\u001b[39;00m \u001b[43m{\u001b[49m\n\u001b[1;32m    424\u001b[0m \u001b[43m    \u001b[49m\u001b[43mOutput\u001b[49m\u001b[38;5;241;43m.\u001b[39;49m\u001b[43mBYTES\u001b[49m\u001b[43m:\u001b[49m\u001b[43m \u001b[49m\u001b[38;5;28;43;01mlambda\u001b[39;49;00m\u001b[43m:\u001b[49m\u001b[43m \u001b[49m\u001b[43mrun_and_get_output\u001b[49m\u001b[43m(\u001b[49m\u001b[38;5;241;43m*\u001b[39;49m\u001b[43m(\u001b[49m\u001b[43margs\u001b[49m\u001b[43m \u001b[49m\u001b[38;5;241;43m+\u001b[39;49m\u001b[43m \u001b[49m\u001b[43m[\u001b[49m\u001b[38;5;28;43;01mTrue\u001b[39;49;00m\u001b[43m]\u001b[49m\u001b[43m)\u001b[49m\u001b[43m)\u001b[49m\u001b[43m,\u001b[49m\n\u001b[1;32m    425\u001b[0m \u001b[43m    \u001b[49m\u001b[43mOutput\u001b[49m\u001b[38;5;241;43m.\u001b[39;49m\u001b[43mDICT\u001b[49m\u001b[43m:\u001b[49m\u001b[43m \u001b[49m\u001b[38;5;28;43;01mlambda\u001b[39;49;00m\u001b[43m:\u001b[49m\u001b[43m \u001b[49m\u001b[43m{\u001b[49m\u001b[38;5;124;43m'\u001b[39;49m\u001b[38;5;124;43mtext\u001b[39;49m\u001b[38;5;124;43m'\u001b[39;49m\u001b[43m:\u001b[49m\u001b[43m \u001b[49m\u001b[43mrun_and_get_output\u001b[49m\u001b[43m(\u001b[49m\u001b[38;5;241;43m*\u001b[39;49m\u001b[43margs\u001b[49m\u001b[43m)\u001b[49m\u001b[43m}\u001b[49m\u001b[43m,\u001b[49m\n\u001b[1;32m    426\u001b[0m \u001b[43m    \u001b[49m\u001b[43mOutput\u001b[49m\u001b[38;5;241;43m.\u001b[39;49m\u001b[43mSTRING\u001b[49m\u001b[43m:\u001b[49m\u001b[43m \u001b[49m\u001b[38;5;28;43;01mlambda\u001b[39;49;00m\u001b[43m:\u001b[49m\u001b[43m \u001b[49m\u001b[43mrun_and_get_output\u001b[49m\u001b[43m(\u001b[49m\u001b[38;5;241;43m*\u001b[39;49m\u001b[43margs\u001b[49m\u001b[43m)\u001b[49m\u001b[43m,\u001b[49m\n\u001b[1;32m    427\u001b[0m \u001b[43m\u001b[49m\u001b[43m}\u001b[49m\u001b[43m[\u001b[49m\u001b[43moutput_type\u001b[49m\u001b[43m]\u001b[49m\u001b[43m(\u001b[49m\u001b[43m)\u001b[49m\n",
      "File \u001b[0;32m~/.pyenv/versions/3.9.5/lib/python3.9/site-packages/pytesseract/pytesseract.py:426\u001b[0m, in \u001b[0;36mimage_to_string.<locals>.<lambda>\u001b[0;34m()\u001b[0m\n\u001b[1;32m    418\u001b[0m \u001b[38;5;250m\u001b[39m\u001b[38;5;124;03m\"\"\"\u001b[39;00m\n\u001b[1;32m    419\u001b[0m \u001b[38;5;124;03mReturns the result of a Tesseract OCR run on the provided image to string\u001b[39;00m\n\u001b[1;32m    420\u001b[0m \u001b[38;5;124;03m\"\"\"\u001b[39;00m\n\u001b[1;32m    421\u001b[0m args \u001b[38;5;241m=\u001b[39m [image, \u001b[38;5;124m'\u001b[39m\u001b[38;5;124mtxt\u001b[39m\u001b[38;5;124m'\u001b[39m, lang, config, nice, timeout]\n\u001b[1;32m    423\u001b[0m \u001b[38;5;28;01mreturn\u001b[39;00m {\n\u001b[1;32m    424\u001b[0m     Output\u001b[38;5;241m.\u001b[39mBYTES: \u001b[38;5;28;01mlambda\u001b[39;00m: run_and_get_output(\u001b[38;5;241m*\u001b[39m(args \u001b[38;5;241m+\u001b[39m [\u001b[38;5;28;01mTrue\u001b[39;00m])),\n\u001b[1;32m    425\u001b[0m     Output\u001b[38;5;241m.\u001b[39mDICT: \u001b[38;5;28;01mlambda\u001b[39;00m: {\u001b[38;5;124m'\u001b[39m\u001b[38;5;124mtext\u001b[39m\u001b[38;5;124m'\u001b[39m: run_and_get_output(\u001b[38;5;241m*\u001b[39margs)},\n\u001b[0;32m--> 426\u001b[0m     Output\u001b[38;5;241m.\u001b[39mSTRING: \u001b[38;5;28;01mlambda\u001b[39;00m: \u001b[43mrun_and_get_output\u001b[49m\u001b[43m(\u001b[49m\u001b[38;5;241;43m*\u001b[39;49m\u001b[43margs\u001b[49m\u001b[43m)\u001b[49m,\n\u001b[1;32m    427\u001b[0m }[output_type]()\n",
      "File \u001b[0;32m~/.pyenv/versions/3.9.5/lib/python3.9/site-packages/pytesseract/pytesseract.py:277\u001b[0m, in \u001b[0;36mrun_and_get_output\u001b[0;34m(image, extension, lang, config, nice, timeout, return_bytes)\u001b[0m\n\u001b[1;32m    267\u001b[0m \u001b[38;5;28;01mdef\u001b[39;00m \u001b[38;5;21mrun_and_get_output\u001b[39m(\n\u001b[1;32m    268\u001b[0m     image,\n\u001b[1;32m    269\u001b[0m     extension\u001b[38;5;241m=\u001b[39m\u001b[38;5;124m'\u001b[39m\u001b[38;5;124m'\u001b[39m,\n\u001b[0;32m   (...)\u001b[0m\n\u001b[1;32m    274\u001b[0m     return_bytes\u001b[38;5;241m=\u001b[39m\u001b[38;5;28;01mFalse\u001b[39;00m,\n\u001b[1;32m    275\u001b[0m ):\n\u001b[0;32m--> 277\u001b[0m     \u001b[38;5;28;01mwith\u001b[39;00m save(image) \u001b[38;5;28;01mas\u001b[39;00m (temp_name, input_filename):\n\u001b[1;32m    278\u001b[0m         kwargs \u001b[38;5;241m=\u001b[39m {\n\u001b[1;32m    279\u001b[0m             \u001b[38;5;124m'\u001b[39m\u001b[38;5;124minput_filename\u001b[39m\u001b[38;5;124m'\u001b[39m: input_filename,\n\u001b[1;32m    280\u001b[0m             \u001b[38;5;124m'\u001b[39m\u001b[38;5;124moutput_filename_base\u001b[39m\u001b[38;5;124m'\u001b[39m: temp_name,\n\u001b[0;32m   (...)\u001b[0m\n\u001b[1;32m    285\u001b[0m             \u001b[38;5;124m'\u001b[39m\u001b[38;5;124mtimeout\u001b[39m\u001b[38;5;124m'\u001b[39m: timeout,\n\u001b[1;32m    286\u001b[0m         }\n\u001b[1;32m    288\u001b[0m         run_tesseract(\u001b[38;5;241m*\u001b[39m\u001b[38;5;241m*\u001b[39mkwargs)\n",
      "File \u001b[0;32m~/.pyenv/versions/3.9.5/lib/python3.9/contextlib.py:117\u001b[0m, in \u001b[0;36m_GeneratorContextManager.__enter__\u001b[0;34m(self)\u001b[0m\n\u001b[1;32m    115\u001b[0m \u001b[38;5;28;01mdel\u001b[39;00m \u001b[38;5;28mself\u001b[39m\u001b[38;5;241m.\u001b[39margs, \u001b[38;5;28mself\u001b[39m\u001b[38;5;241m.\u001b[39mkwds, \u001b[38;5;28mself\u001b[39m\u001b[38;5;241m.\u001b[39mfunc\n\u001b[1;32m    116\u001b[0m \u001b[38;5;28;01mtry\u001b[39;00m:\n\u001b[0;32m--> 117\u001b[0m     \u001b[38;5;28;01mreturn\u001b[39;00m \u001b[38;5;28;43mnext\u001b[39;49m\u001b[43m(\u001b[49m\u001b[38;5;28;43mself\u001b[39;49m\u001b[38;5;241;43m.\u001b[39;49m\u001b[43mgen\u001b[49m\u001b[43m)\u001b[49m\n\u001b[1;32m    118\u001b[0m \u001b[38;5;28;01mexcept\u001b[39;00m \u001b[38;5;167;01mStopIteration\u001b[39;00m:\n\u001b[1;32m    119\u001b[0m     \u001b[38;5;28;01mraise\u001b[39;00m \u001b[38;5;167;01mRuntimeError\u001b[39;00m(\u001b[38;5;124m\"\u001b[39m\u001b[38;5;124mgenerator didn\u001b[39m\u001b[38;5;124m'\u001b[39m\u001b[38;5;124mt yield\u001b[39m\u001b[38;5;124m\"\u001b[39m) \u001b[38;5;28;01mfrom\u001b[39;00m \u001b[38;5;28;01mNone\u001b[39;00m\n",
      "File \u001b[0;32m~/.pyenv/versions/3.9.5/lib/python3.9/site-packages/pytesseract/pytesseract.py:197\u001b[0m, in \u001b[0;36msave\u001b[0;34m(image)\u001b[0m\n\u001b[1;32m    195\u001b[0m     \u001b[38;5;28;01myield\u001b[39;00m f\u001b[38;5;241m.\u001b[39mname, realpath(normpath(normcase(image)))\n\u001b[1;32m    196\u001b[0m     \u001b[38;5;28;01mreturn\u001b[39;00m\n\u001b[0;32m--> 197\u001b[0m image, extension \u001b[38;5;241m=\u001b[39m \u001b[43mprepare\u001b[49m\u001b[43m(\u001b[49m\u001b[43mimage\u001b[49m\u001b[43m)\u001b[49m\n\u001b[1;32m    198\u001b[0m input_file_name \u001b[38;5;241m=\u001b[39m \u001b[38;5;124mf\u001b[39m\u001b[38;5;124m'\u001b[39m\u001b[38;5;132;01m{\u001b[39;00mf\u001b[38;5;241m.\u001b[39mname\u001b[38;5;132;01m}\u001b[39;00m\u001b[38;5;124m_input\u001b[39m\u001b[38;5;132;01m{\u001b[39;00mextsep\u001b[38;5;132;01m}\u001b[39;00m\u001b[38;5;132;01m{\u001b[39;00mextension\u001b[38;5;132;01m}\u001b[39;00m\u001b[38;5;124m'\u001b[39m\n\u001b[1;32m    199\u001b[0m image\u001b[38;5;241m.\u001b[39msave(input_file_name, \u001b[38;5;28mformat\u001b[39m\u001b[38;5;241m=\u001b[39mimage\u001b[38;5;241m.\u001b[39mformat)\n",
      "File \u001b[0;32m~/.pyenv/versions/3.9.5/lib/python3.9/site-packages/pytesseract/pytesseract.py:174\u001b[0m, in \u001b[0;36mprepare\u001b[0;34m(image)\u001b[0m\n\u001b[1;32m    171\u001b[0m     image \u001b[38;5;241m=\u001b[39m Image\u001b[38;5;241m.\u001b[39mfromarray(image)\n\u001b[1;32m    173\u001b[0m \u001b[38;5;28;01mif\u001b[39;00m \u001b[38;5;129;01mnot\u001b[39;00m \u001b[38;5;28misinstance\u001b[39m(image, Image\u001b[38;5;241m.\u001b[39mImage):\n\u001b[0;32m--> 174\u001b[0m     \u001b[38;5;28;01mraise\u001b[39;00m \u001b[38;5;167;01mTypeError\u001b[39;00m(\u001b[38;5;124m'\u001b[39m\u001b[38;5;124mUnsupported image object\u001b[39m\u001b[38;5;124m'\u001b[39m)\n\u001b[1;32m    176\u001b[0m extension \u001b[38;5;241m=\u001b[39m \u001b[38;5;124m'\u001b[39m\u001b[38;5;124mPNG\u001b[39m\u001b[38;5;124m'\u001b[39m \u001b[38;5;28;01mif\u001b[39;00m \u001b[38;5;129;01mnot\u001b[39;00m image\u001b[38;5;241m.\u001b[39mformat \u001b[38;5;28;01melse\u001b[39;00m image\u001b[38;5;241m.\u001b[39mformat\n\u001b[1;32m    177\u001b[0m \u001b[38;5;28;01mif\u001b[39;00m extension \u001b[38;5;129;01mnot\u001b[39;00m \u001b[38;5;129;01min\u001b[39;00m SUPPORTED_FORMATS:\n",
      "\u001b[0;31mTypeError\u001b[0m: Unsupported image object"
     ]
    }
   ],
   "source": [
    "import fitz\n",
    "import pytesseract\n",
    "\n",
    "# Open the PDF file\n",
    "pdf_path = \"pdf-test-pc.pdf\"\n",
    "doc = fitz.open(pdf_path)\n",
    "\n",
    "# Initialize PyTesseract OCR engine\n",
    "pytesseract.pytesseract.tesseract_cmd = r'/opt/homebrew/bin/tesseract'  # Adjust this path as needed\n",
    "ocr_engine = pytesseract.image_to_string\n",
    "\n",
    "# Extract images from each page and perform OCR\n",
    "for page in doc:\n",
    "    images = page.get_images(full=True)\n",
    "    for img_idx, img_info in enumerate(images):\n",
    "        xref = img_info[0]\n",
    "        base_image = doc.extract_image(xref)\n",
    "        image_bytes = base_image[\"image\"]\n",
    "        text = ocr_engine(image_bytes)\n",
    "        print(f\"Text from image {img_idx + 1} on page {page.number}:\")\n",
    "        print(text)\n",
    "\n",
    "# Close the PDF file\n",
    "doc.close()\n"
   ]
  },
  {
   "cell_type": "code",
   "execution_count": 145,
   "id": "295c163e-8a0d-457a-97f1-9dfe3d6c8cd9",
   "metadata": {},
   "outputs": [
    {
     "ename": "UnidentifiedImageError",
     "evalue": "cannot identify image file <_io.BytesIO object at 0x120733810>",
     "output_type": "error",
     "traceback": [
      "\u001b[0;31m---------------------------------------------------------------------------\u001b[0m",
      "\u001b[0;31mUnidentifiedImageError\u001b[0m                    Traceback (most recent call last)",
      "Cell \u001b[0;32mIn[145], line 25\u001b[0m\n\u001b[1;32m     22\u001b[0m image_bytes \u001b[38;5;241m=\u001b[39m base_image[\u001b[38;5;124m\"\u001b[39m\u001b[38;5;124mimage\u001b[39m\u001b[38;5;124m\"\u001b[39m]\n\u001b[1;32m     24\u001b[0m \u001b[38;5;66;03m# Convert image bytes to PIL Image object\u001b[39;00m\n\u001b[0;32m---> 25\u001b[0m pil_image \u001b[38;5;241m=\u001b[39m \u001b[43mImage\u001b[49m\u001b[38;5;241;43m.\u001b[39;49m\u001b[43mopen\u001b[49m\u001b[43m(\u001b[49m\u001b[43mio\u001b[49m\u001b[38;5;241;43m.\u001b[39;49m\u001b[43mBytesIO\u001b[49m\u001b[43m(\u001b[49m\u001b[43mimage_bytes\u001b[49m\u001b[43m)\u001b[49m\u001b[43m)\u001b[49m\n\u001b[1;32m     27\u001b[0m \u001b[38;5;66;03m# Perform OCR on the PIL Image\u001b[39;00m\n\u001b[1;32m     28\u001b[0m text \u001b[38;5;241m=\u001b[39m pytesseract\u001b[38;5;241m.\u001b[39mimage_to_string(pil_image)\n",
      "File \u001b[0;32m~/.pyenv/versions/3.9.5/lib/python3.9/site-packages/PIL/Image.py:3309\u001b[0m, in \u001b[0;36mopen\u001b[0;34m(fp, mode, formats)\u001b[0m\n\u001b[1;32m   3307\u001b[0m     warnings\u001b[38;5;241m.\u001b[39mwarn(message)\n\u001b[1;32m   3308\u001b[0m msg \u001b[38;5;241m=\u001b[39m \u001b[38;5;124m\"\u001b[39m\u001b[38;5;124mcannot identify image file \u001b[39m\u001b[38;5;132;01m%r\u001b[39;00m\u001b[38;5;124m\"\u001b[39m \u001b[38;5;241m%\u001b[39m (filename \u001b[38;5;28;01mif\u001b[39;00m filename \u001b[38;5;28;01melse\u001b[39;00m fp)\n\u001b[0;32m-> 3309\u001b[0m \u001b[38;5;28;01mraise\u001b[39;00m UnidentifiedImageError(msg)\n",
      "\u001b[0;31mUnidentifiedImageError\u001b[0m: cannot identify image file <_io.BytesIO object at 0x120733810>"
     ]
    }
   ],
   "source": [
    "import fitz\n",
    "import pytesseract\n",
    "from PIL import Image\n",
    "import io\n",
    "\n",
    "# Open the PDF file\n",
    "pdf_path = \"pdf-test-pc.pdf\"\n",
    "doc = fitz.open(pdf_path)\n",
    "\n",
    "# Initialize PyTesseract OCR engine\n",
    "pytesseract.pytesseract.tesseract_cmd = r'/opt/homebrew/bin/tesseract'  # Adjust this path as needed\n",
    "\n",
    "# Iterate over each page in the PDF\n",
    "for page in doc:\n",
    "    # Extract images from the page\n",
    "    images = page.get_images(full=True)\n",
    "    \n",
    "    # Iterate over each image on the page\n",
    "    for img_idx, img_info in enumerate(images):\n",
    "        xref = img_info[0]\n",
    "        base_image = doc.extract_image(xref)\n",
    "        image_bytes = base_image[\"image\"]\n",
    "        \n",
    "        # Convert image bytes to PIL Image object\n",
    "        pil_image = Image.open(io.BytesIO(image_bytes))\n",
    "        \n",
    "        # Perform OCR on the PIL Image\n",
    "        text = pytesseract.image_to_string(pil_image)\n",
    "        \n",
    "        # Print the extracted text\n",
    "        print(f\"Text from image {img_idx + 1} on page {page.number}:\")\n",
    "        print(text)\n",
    "\n",
    "# Close the PDF file\n",
    "doc.close()\n"
   ]
  },
  {
   "cell_type": "code",
   "execution_count": 146,
   "id": "937f0c0b-c51f-4237-8c1a-3df08d40429c",
   "metadata": {},
   "outputs": [
    {
     "name": "stdout",
     "output_type": "stream",
     "text": [
      "Error processing image 1 on page 0: cannot identify image file <_io.BytesIO object at 0x105efca90>\n",
      "Error processing image 1 on page 1: cannot identify image file <_io.BytesIO object at 0x1058eb540>\n",
      "Error processing image 1 on page 2: cannot identify image file <_io.BytesIO object at 0x105f25b80>\n",
      "Error processing image 1 on page 3: cannot identify image file <_io.BytesIO object at 0x120773360>\n",
      "Error processing image 1 on page 4: cannot identify image file <_io.BytesIO object at 0x120773630>\n",
      "Error processing image 1 on page 5: cannot identify image file <_io.BytesIO object at 0x1209aa4f0>\n",
      "Error processing image 1 on page 6: cannot identify image file <_io.BytesIO object at 0x1058eb540>\n",
      "Error processing image 1 on page 7: cannot identify image file <_io.BytesIO object at 0x105f25b80>\n",
      "Error processing image 1 on page 8: cannot identify image file <_io.BytesIO object at 0x120773360>\n",
      "Error processing image 1 on page 9: cannot identify image file <_io.BytesIO object at 0x105efc810>\n",
      "Error processing image 1 on page 10: cannot identify image file <_io.BytesIO object at 0x1058eb130>\n",
      "Error processing image 1 on page 11: cannot identify image file <_io.BytesIO object at 0x105efca90>\n",
      "Error processing image 1 on page 12: cannot identify image file <_io.BytesIO object at 0x120733900>\n",
      "Error processing image 1 on page 13: cannot identify image file <_io.BytesIO object at 0x120773630>\n",
      "Error processing image 1 on page 14: cannot identify image file <_io.BytesIO object at 0x120e44d60>\n",
      "Error processing image 1 on page 15: cannot identify image file <_io.BytesIO object at 0x1058eb130>\n",
      "Error processing image 1 on page 16: cannot identify image file <_io.BytesIO object at 0x105efc810>\n",
      "Error processing image 1 on page 17: cannot identify image file <_io.BytesIO object at 0x105f25270>\n",
      "Error processing image 1 on page 18: cannot identify image file <_io.BytesIO object at 0x120e44d60>\n",
      "Error processing image 1 on page 19: cannot identify image file <_io.BytesIO object at 0x1209aa4f0>\n",
      "Error processing image 1 on page 20: cannot identify image file <_io.BytesIO object at 0x105efca90>\n",
      "Error processing image 1 on page 21: cannot identify image file <_io.BytesIO object at 0x105f25b80>\n",
      "Error processing image 1 on page 22: cannot identify image file <_io.BytesIO object at 0x105f25270>\n",
      "Error processing image 1 on page 23: cannot identify image file <_io.BytesIO object at 0x120733900>\n",
      "Error processing image 1 on page 24: cannot identify image file <_io.BytesIO object at 0x1209a1130>\n",
      "Error processing image 1 on page 25: cannot identify image file <_io.BytesIO object at 0x120773630>\n",
      "Error processing image 1 on page 26: cannot identify image file <_io.BytesIO object at 0x105efc810>\n",
      "Error processing image 1 on page 27: cannot identify image file <_io.BytesIO object at 0x1058eb130>\n",
      "Error processing image 1 on page 28: cannot identify image file <_io.BytesIO object at 0x120733950>\n",
      "Error processing image 1 on page 29: cannot identify image file <_io.BytesIO object at 0x1058eb540>\n",
      "Error processing image 1 on page 30: cannot identify image file <_io.BytesIO object at 0x120e44d60>\n",
      "Error processing image 1 on page 31: cannot identify image file <_io.BytesIO object at 0x1059027c0>\n",
      "Error processing image 1 on page 32: cannot identify image file <_io.BytesIO object at 0x1211d7220>\n",
      "Error processing image 1 on page 33: cannot identify image file <_io.BytesIO object at 0x1209aa4f0>\n",
      "Error processing image 1 on page 34: cannot identify image file <_io.BytesIO object at 0x105efca90>\n",
      "Error processing image 1 on page 35: cannot identify image file <_io.BytesIO object at 0x105f25b80>\n",
      "Error processing image 1 on page 36: cannot identify image file <_io.BytesIO object at 0x1209a1130>\n",
      "Error processing image 1 on page 37: cannot identify image file <_io.BytesIO object at 0x114614900>\n",
      "Error processing image 1 on page 38: cannot identify image file <_io.BytesIO object at 0x120b78db0>\n",
      "Error processing image 1 on page 39: cannot identify image file <_io.BytesIO object at 0x120773630>\n",
      "Error processing image 1 on page 40: cannot identify image file <_io.BytesIO object at 0x120773360>\n",
      "Error processing image 1 on page 41: cannot identify image file <_io.BytesIO object at 0x1058eb540>\n",
      "Error processing image 1 on page 42: cannot identify image file <_io.BytesIO object at 0x1209267c0>\n",
      "Error processing image 1 on page 43: cannot identify image file <_io.BytesIO object at 0x120773360>\n",
      "Error processing image 1 on page 44: cannot identify image file <_io.BytesIO object at 0x105f25270>\n",
      "Error processing image 1 on page 45: cannot identify image file <_io.BytesIO object at 0x120733950>\n",
      "Error processing image 1 on page 46: cannot identify image file <_io.BytesIO object at 0x120e44d60>\n",
      "Error processing image 1 on page 47: cannot identify image file <_io.BytesIO object at 0x1059027c0>\n",
      "Error processing image 1 on page 48: cannot identify image file <_io.BytesIO object at 0x1211d7220>\n",
      "Error processing image 1 on page 49: cannot identify image file <_io.BytesIO object at 0x1209a1130>\n",
      "Error processing image 1 on page 50: cannot identify image file <_io.BytesIO object at 0x120926680>\n",
      "Error processing image 1 on page 51: cannot identify image file <_io.BytesIO object at 0x105f25540>\n",
      "Error processing image 1 on page 52: cannot identify image file <_io.BytesIO object at 0x120773360>\n",
      "Error processing image 1 on page 53: cannot identify image file <_io.BytesIO object at 0x1059027c0>\n",
      "Error processing image 1 on page 54: cannot identify image file <_io.BytesIO object at 0x105f25b80>\n",
      "Error processing image 1 on page 55: cannot identify image file <_io.BytesIO object at 0x120b78db0>\n",
      "Error processing image 1 on page 56: cannot identify image file <_io.BytesIO object at 0x114614900>\n",
      "Error processing image 1 on page 57: cannot identify image file <_io.BytesIO object at 0x1209aa4f0>\n",
      "Error processing image 1 on page 58: cannot identify image file <_io.BytesIO object at 0x105f25270>\n",
      "Error processing image 1 on page 59: cannot identify image file <_io.BytesIO object at 0x120f0ca90>\n",
      "Error processing image 1 on page 60: cannot identify image file <_io.BytesIO object at 0x1211d7220>\n",
      "Error processing image 1 on page 61: cannot identify image file <_io.BytesIO object at 0x120113950>\n",
      "Error processing image 1 on page 62: cannot identify image file <_io.BytesIO object at 0x105f25540>\n",
      "Error processing image 1 on page 63: cannot identify image file <_io.BytesIO object at 0x120b78db0>\n",
      "Error processing image 1 on page 64: cannot identify image file <_io.BytesIO object at 0x120773360>\n",
      "Error processing image 1 on page 65: cannot identify image file <_io.BytesIO object at 0x1209a1130>\n",
      "Error processing image 1 on page 66: cannot identify image file <_io.BytesIO object at 0x1209a12c0>\n",
      "Error processing image 1 on page 67: cannot identify image file <_io.BytesIO object at 0x1209aa4f0>\n",
      "Error processing image 1 on page 68: cannot identify image file <_io.BytesIO object at 0x114614900>\n",
      "Error processing image 1 on page 69: cannot identify image file <_io.BytesIO object at 0x120322b80>\n",
      "Error processing image 1 on page 70: cannot identify image file <_io.BytesIO object at 0x105f25270>\n",
      "Error processing image 1 on page 71: cannot identify image file <_io.BytesIO object at 0x105f25b80>\n",
      "Error processing image 1 on page 72: cannot identify image file <_io.BytesIO object at 0x120e44d60>\n",
      "Error processing image 1 on page 73: cannot identify image file <_io.BytesIO object at 0x120f0c680>\n",
      "Error processing image 1 on page 74: cannot identify image file <_io.BytesIO object at 0x120773630>\n",
      "Error processing image 1 on page 75: cannot identify image file <_io.BytesIO object at 0x120f0ca90>\n",
      "Error processing image 1 on page 76: cannot identify image file <_io.BytesIO object at 0x1211d7220>\n",
      "Error processing image 1 on page 77: cannot identify image file <_io.BytesIO object at 0x120113950>\n",
      "Error processing image 1 on page 78: cannot identify image file <_io.BytesIO object at 0x105f25540>\n",
      "Error processing image 1 on page 79: cannot identify image file <_io.BytesIO object at 0x120f0c680>\n",
      "Error processing image 1 on page 80: cannot identify image file <_io.BytesIO object at 0x120773630>\n",
      "Error processing image 1 on page 81: cannot identify image file <_io.BytesIO object at 0x1209a1130>\n",
      "Error processing image 1 on page 82: cannot identify image file <_io.BytesIO object at 0x1209a12c0>\n",
      "Error processing image 1 on page 83: cannot identify image file <_io.BytesIO object at 0x1209aa4f0>\n",
      "Error processing image 1 on page 84: cannot identify image file <_io.BytesIO object at 0x120773360>\n",
      "Error processing image 1 on page 85: cannot identify image file <_io.BytesIO object at 0x120322b80>\n",
      "Error processing image 1 on page 86: cannot identify image file <_io.BytesIO object at 0x105f25270>\n",
      "Error processing image 1 on page 87: cannot identify image file <_io.BytesIO object at 0x120f0ca90>\n",
      "Error processing image 1 on page 88: cannot identify image file <_io.BytesIO object at 0x120e44d60>\n",
      "Error processing image 1 on page 89: cannot identify image file <_io.BytesIO object at 0x120113950>\n",
      "Error processing image 1 on page 90: cannot identify image file <_io.BytesIO object at 0x105f25540>\n",
      "Error processing image 1 on page 91: cannot identify image file <_io.BytesIO object at 0x105f25b80>\n",
      "Error processing image 1 on page 92: cannot identify image file <_io.BytesIO object at 0x1211d7220>\n",
      "Error processing image 1 on page 93: cannot identify image file <_io.BytesIO object at 0x120b78db0>\n",
      "Error processing image 1 on page 94: cannot identify image file <_io.BytesIO object at 0x12118c270>\n",
      "Error processing image 1 on page 95: cannot identify image file <_io.BytesIO object at 0x120f0c680>\n",
      "Error processing image 1 on page 96: cannot identify image file <_io.BytesIO object at 0x120773360>\n",
      "Error processing image 1 on page 97: cannot identify image file <_io.BytesIO object at 0x1209aa4f0>\n",
      "Error processing image 1 on page 98: cannot identify image file <_io.BytesIO object at 0x114614900>\n",
      "Error processing image 1 on page 99: cannot identify image file <_io.BytesIO object at 0x120322b80>\n",
      "Error processing image 1 on page 100: cannot identify image file <_io.BytesIO object at 0x105f25270>\n",
      "Error processing image 1 on page 101: cannot identify image file <_io.BytesIO object at 0x120f0ca90>\n",
      "Error processing image 1 on page 102: cannot identify image file <_io.BytesIO object at 0x120e44d60>\n",
      "Error processing image 1 on page 103: cannot identify image file <_io.BytesIO object at 0x12118c270>\n",
      "Error processing image 1 on page 104: cannot identify image file <_io.BytesIO object at 0x120773360>\n",
      "Error processing image 1 on page 105: cannot identify image file <_io.BytesIO object at 0x105f25b80>\n",
      "Error processing image 1 on page 106: cannot identify image file <_io.BytesIO object at 0x120773630>\n",
      "Error processing image 1 on page 107: cannot identify image file <_io.BytesIO object at 0x120b78db0>\n",
      "Error processing image 1 on page 108: cannot identify image file <_io.BytesIO object at 0x1211d7220>\n",
      "Error processing image 1 on page 109: cannot identify image file <_io.BytesIO object at 0x120f0c680>\n",
      "Error processing image 1 on page 110: cannot identify image file <_io.BytesIO object at 0x114614900>\n",
      "Error processing image 1 on page 111: cannot identify image file <_io.BytesIO object at 0x1209aa4f0>\n",
      "Error processing image 1 on page 112: cannot identify image file <_io.BytesIO object at 0x105f25270>\n",
      "Error processing image 1 on page 113: cannot identify image file <_io.BytesIO object at 0x120322b80>\n",
      "Error processing image 1 on page 114: cannot identify image file <_io.BytesIO object at 0x105f25540>\n",
      "Error processing image 1 on page 115: cannot identify image file <_io.BytesIO object at 0x120113950>\n",
      "Error processing image 1 on page 116: cannot identify image file <_io.BytesIO object at 0x120e44d60>\n",
      "Error processing image 1 on page 117: cannot identify image file <_io.BytesIO object at 0x120f0ca90>\n",
      "Error processing image 1 on page 118: cannot identify image file <_io.BytesIO object at 0x120773360>\n",
      "Error processing image 1 on page 119: cannot identify image file <_io.BytesIO object at 0x12118c270>\n",
      "Error processing image 1 on page 120: cannot identify image file <_io.BytesIO object at 0x1211d7220>\n",
      "Error processing image 1 on page 121: cannot identify image file <_io.BytesIO object at 0x105f25b80>\n",
      "Error processing image 1 on page 122: cannot identify image file <_io.BytesIO object at 0x120773630>\n",
      "Error processing image 1 on page 123: cannot identify image file <_io.BytesIO object at 0x114614900>\n",
      "Error processing image 1 on page 124: cannot identify image file <_io.BytesIO object at 0x12118c270>\n"
     ]
    }
   ],
   "source": [
    "import fitz\n",
    "import pytesseract\n",
    "from PIL import Image\n",
    "import io\n",
    "\n",
    "# Open the PDF file\n",
    "pdf_path = \"pdf-test-pc.pdf\"\n",
    "doc = fitz.open(pdf_path)\n",
    "\n",
    "# Initialize PyTesseract OCR engine\n",
    "pytesseract.pytesseract.tesseract_cmd = r'/opt/homebrew/bin/tesseract'  # Adjust this path as needed\n",
    "\n",
    "# Iterate over each page in the PDF\n",
    "for page in doc:\n",
    "    # Extract images from the page\n",
    "    images = page.get_images(full=True)\n",
    "    \n",
    "    # Iterate over each image on the page\n",
    "    for img_idx, img_info in enumerate(images):\n",
    "        xref = img_info[0]\n",
    "        base_image = doc.extract_image(xref)\n",
    "        image_bytes = base_image[\"image\"]\n",
    "        \n",
    "        # Try to determine the image format\n",
    "        try:\n",
    "            # Open the image bytes as a PIL Image object\n",
    "            pil_image = Image.open(io.BytesIO(image_bytes))\n",
    "            \n",
    "            # Perform OCR on the PIL Image\n",
    "            text = pytesseract.image_to_string(pil_image)\n",
    "            \n",
    "            # Print the extracted text\n",
    "            print(f\"Text from image {img_idx + 1} on page {page.number}:\")\n",
    "            print(text)\n",
    "            \n",
    "        except Exception as e:\n",
    "            print(f\"Error processing image {img_idx + 1} on page {page.number}: {e}\")\n",
    "\n",
    "# Close the PDF file\n",
    "doc.close()\n"
   ]
  }
 ],
 "metadata": {
  "kernelspec": {
   "display_name": "Python 3 (ipykernel)",
   "language": "python",
   "name": "python3"
  },
  "language_info": {
   "codemirror_mode": {
    "name": "ipython",
    "version": 3
   },
   "file_extension": ".py",
   "mimetype": "text/x-python",
   "name": "python",
   "nbconvert_exporter": "python",
   "pygments_lexer": "ipython3",
   "version": "3.9.5"
  }
 },
 "nbformat": 4,
 "nbformat_minor": 5
}
