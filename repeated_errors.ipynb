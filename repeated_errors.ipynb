{
 "cells": [
  {
   "cell_type": "markdown",
   "id": "c18b2f89-8277-4bbd-bdda-1dc499ebbb8d",
   "metadata": {},
   "source": [
    "```\n",
    "Cell In[206], line 15, in retrieve_relevant_resources(query, embeddings, model, n_resources_to_return, print_time)\n",
    "     13 # Get dot product scores on embeddings\n",
    "     14 start_time = timer()\n",
    "---> 15 dot_scores = util.dot_score(query_embedding, embeddings)[0]\n",
    "     16 end_time = timer()\n",
    "     18 if print_time:\n",
    "\n",
    "File ~/.pyenv/versions/3.9.5/lib/python3.9/site-packages/sentence_transformers/util.py:72, in dot_score(a, b)\n",
    "     69 if len(b.shape) == 1:\n",
    "     70     b = b.unsqueeze(0)\n",
    "---> 72 return torch.mm(a, b.transpose(0, 1))\n",
    "\n",
    "RuntimeError: Tensor for argument #2 'mat2' is on CPU, but expected it to be on GPU (while checking arguments for mm)\n",
    "```"
   ]
  },
  {
   "cell_type": "code",
   "execution_count": 1,
   "id": "bdfa77e5-3c8f-4bf7-ab93-78b967e74043",
   "metadata": {},
   "outputs": [
    {
     "ename": "NameError",
     "evalue": "name 'torch' is not defined",
     "output_type": "error",
     "traceback": [
      "\u001b[0;31m---------------------------------------------------------------------------\u001b[0m",
      "\u001b[0;31mNameError\u001b[0m                                 Traceback (most recent call last)",
      "Cell \u001b[0;32mIn[1], line 6\u001b[0m\n\u001b[1;32m      1\u001b[0m \u001b[38;5;66;03m# example -\u001b[39;00m\n\u001b[1;32m      2\u001b[0m \n\u001b[1;32m      3\u001b[0m \n\u001b[1;32m      4\u001b[0m \u001b[38;5;66;03m# multiple with 1000\u001b[39;00m\n\u001b[0;32m----> 6\u001b[0m larger_embeddings \u001b[38;5;241m=\u001b[39m \u001b[43mtorch\u001b[49m\u001b[38;5;241m.\u001b[39mrandn(\u001b[38;5;241m1000\u001b[39m\u001b[38;5;241m*\u001b[39membeddings\u001b[38;5;241m.\u001b[39mshape[\u001b[38;5;241m0\u001b[39m],\u001b[38;5;241m768\u001b[39m)\u001b[38;5;241m.\u001b[39mto(device)\n\u001b[1;32m      8\u001b[0m \u001b[38;5;28mprint\u001b[39m(\u001b[38;5;124mf\u001b[39m\u001b[38;5;124m'\u001b[39m\u001b[38;5;124mEmbeddings shape : \u001b[39m\u001b[38;5;132;01m{\u001b[39;00membeddings\u001b[38;5;241m.\u001b[39mshape[\u001b[38;5;241m0\u001b[39m]\u001b[38;5;132;01m}\u001b[39;00m\u001b[38;5;124m'\u001b[39m)\n\u001b[1;32m     10\u001b[0m larger_embeddings_on_gpu \u001b[38;5;241m=\u001b[39m larger_embeddings\u001b[38;5;241m.\u001b[39mto(device)\n",
      "\u001b[0;31mNameError\u001b[0m: name 'torch' is not defined"
     ]
    }
   ],
   "source": [
    "\n",
    "\n",
    "# example -\n",
    "\n",
    "\n",
    "# multiple with 1000\n",
    "\n",
    "larger_embeddings = torch.randn(1000*embeddings.shape[0],768).to(device)\n",
    "\n",
    "print(f'Embeddings shape : {embeddings.shape[0]}')\n",
    "\n",
    "larger_embeddings_on_gpu = larger_embeddings.to(device)\n",
    "query_embedding = query_embedding.to(device)\n",
    "\n",
    "# perform dot product across 168000 embeddings\n",
    "\n",
    "start_time = timer()\n",
    "dot_scores = util.dot_score(a=query_embedding, b=larger_embeddings_on_gpu)[0]\n",
    "end_time = timer()\n",
    "\n",
    "print(f'[INFO] Time taken to get scores on {len(larger_embeddings_on_gpu)} | emeddings : {end_time-start_time:.5f} seconds')\n",
    "\n",
    "\n"
   ]
  }
 ],
 "metadata": {
  "kernelspec": {
   "display_name": "Python 3 (ipykernel)",
   "language": "python",
   "name": "python3"
  },
  "language_info": {
   "codemirror_mode": {
    "name": "ipython",
    "version": 3
   },
   "file_extension": ".py",
   "mimetype": "text/x-python",
   "name": "python",
   "nbconvert_exporter": "python",
   "pygments_lexer": "ipython3",
   "version": "3.9.5"
  }
 },
 "nbformat": 4,
 "nbformat_minor": 5
}
