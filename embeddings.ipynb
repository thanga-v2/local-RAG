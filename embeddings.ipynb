{
 "cells": [
  {
   "cell_type": "code",
   "execution_count": 2,
   "id": "23503cf1-c7bb-4278-8f8e-86d9dc9a528e",
   "metadata": {},
   "outputs": [],
   "source": [
    "import torch\n",
    "from transformers import BertTokenizer, BertModel"
   ]
  },
  {
   "cell_type": "markdown",
   "id": "80470f4e-34c4-41a6-9375-9a99e7e52515",
   "metadata": {},
   "source": [
    " Loading pre-trained Model tokenizer (vocabulary)"
   ]
  },
  {
   "cell_type": "code",
   "execution_count": 3,
   "id": "7caa4f02-5bda-4067-8922-301971259675",
   "metadata": {},
   "outputs": [
    {
     "data": {
      "application/vnd.jupyter.widget-view+json": {
       "model_id": "33750530d23b41ef93add9f5321ef94e",
       "version_major": 2,
       "version_minor": 0
      },
      "text/plain": [
       "tokenizer_config.json:   0%|          | 0.00/48.0 [00:00<?, ?B/s]"
      ]
     },
     "metadata": {},
     "output_type": "display_data"
    },
    {
     "data": {
      "application/vnd.jupyter.widget-view+json": {
       "model_id": "3865af8398964314bd2ab9dd34056053",
       "version_major": 2,
       "version_minor": 0
      },
      "text/plain": [
       "vocab.txt:   0%|          | 0.00/232k [00:00<?, ?B/s]"
      ]
     },
     "metadata": {},
     "output_type": "display_data"
    },
    {
     "data": {
      "application/vnd.jupyter.widget-view+json": {
       "model_id": "c08cad2ac694413696e66f9193af898f",
       "version_major": 2,
       "version_minor": 0
      },
      "text/plain": [
       "tokenizer.json:   0%|          | 0.00/466k [00:00<?, ?B/s]"
      ]
     },
     "metadata": {},
     "output_type": "display_data"
    },
    {
     "data": {
      "application/vnd.jupyter.widget-view+json": {
       "model_id": "a2f20f92da22419dbc8fadfdd4d5d794",
       "version_major": 2,
       "version_minor": 0
      },
      "text/plain": [
       "config.json:   0%|          | 0.00/570 [00:00<?, ?B/s]"
      ]
     },
     "metadata": {},
     "output_type": "display_data"
    }
   ],
   "source": [
    "tokenizer = BertTokenizer.from_pretrained('bert-base-uncased')"
   ]
  },
  {
   "cell_type": "code",
   "execution_count": 4,
   "id": "680e7532-82eb-4938-9a0d-a75e4a393fc4",
   "metadata": {},
   "outputs": [],
   "source": [
    "text = \"\"\"Hold fast to dreams, for if dreams die, life is a broken-winged bird that cannot fly\"\"\""
   ]
  },
  {
   "cell_type": "markdown",
   "id": "6c602eff-e886-49f2-96de-09608705d899",
   "metadata": {},
   "source": [
    "Tokenize the sentence with BERT tokenizer"
   ]
  },
  {
   "cell_type": "code",
   "execution_count": 5,
   "id": "7661a51a-f159-4879-86a8-19ccb70374c3",
   "metadata": {},
   "outputs": [],
   "source": [
    "tokenized_text = tokenizer.tokenize(text)"
   ]
  },
  {
   "cell_type": "markdown",
   "id": "030bdd73-c7ec-4e8c-b79f-c5e172b6305f",
   "metadata": {},
   "source": [
    "print out the tokens"
   ]
  },
  {
   "cell_type": "code",
   "execution_count": 6,
   "id": "35b663ab-ab34-4b44-aa5a-5ebd8051e47d",
   "metadata": {},
   "outputs": [
    {
     "name": "stdout",
     "output_type": "stream",
     "text": [
      "['hold', 'fast', 'to', 'dreams', ',', 'for', 'if', 'dreams', 'die', ',', 'life', 'is', 'a', 'broken', '-', 'winged', 'bird', 'that', 'cannot', 'fly']\n"
     ]
    }
   ],
   "source": [
    "print(tokenized_text)"
   ]
  }
 ],
 "metadata": {
  "kernelspec": {
   "display_name": "Python 3 (ipykernel)",
   "language": "python",
   "name": "python3"
  },
  "language_info": {
   "codemirror_mode": {
    "name": "ipython",
    "version": 3
   },
   "file_extension": ".py",
   "mimetype": "text/x-python",
   "name": "python",
   "nbconvert_exporter": "python",
   "pygments_lexer": "ipython3",
   "version": "3.9.5"
  }
 },
 "nbformat": 4,
 "nbformat_minor": 5
}
