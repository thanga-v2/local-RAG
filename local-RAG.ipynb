{
 "cells": [
  {
   "cell_type": "code",
   "execution_count": null,
   "id": "57f24af2-3777-4bd8-afe5-54bb4131145a",
   "metadata": {},
   "outputs": [],
   "source": [
    "# building a RAG(Retrieval Augmented Generation) pipeline from scratch "
   ]
  },
  {
   "cell_type": "code",
   "execution_count": null,
   "id": "e56e0604-557b-4d03-acd7-85961c77e5ff",
   "metadata": {},
   "outputs": [],
   "source": []
  }
 ],
 "metadata": {
  "kernelspec": {
   "display_name": "Python 3 (ipykernel)",
   "language": "python",
   "name": "python3"
  },
  "language_info": {
   "codemirror_mode": {
    "name": "ipython",
    "version": 3
   },
   "file_extension": ".py",
   "mimetype": "text/x-python",
   "name": "python",
   "nbconvert_exporter": "python",
   "pygments_lexer": "ipython3",
   "version": "3.9.5"
  }
 },
 "nbformat": 4,
 "nbformat_minor": 5
}
